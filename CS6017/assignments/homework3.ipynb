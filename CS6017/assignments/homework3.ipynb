{
 "cells": [
  {
   "cell_type": "markdown",
   "metadata": {},
   "source": [
    "# Homework 3: Scraping and Regression\n",
    "[HackerNews](https://news.ycombinator.com). \n",
    "## Part 1 Data Acquisition\n",
    "\n",
    "Check out the robots.txt file for HN to make sure you're allowed to scrape it for stories."
   ]
  },
  {
   "cell_type": "code",
   "execution_count": 1,
   "metadata": {},
   "outputs": [
    {
     "ename": "NameError",
     "evalue": "name 'news' is not defined",
     "output_type": "error",
     "traceback": [
      "\u001b[31m---------------------------------------------------------------------------\u001b[39m",
      "\u001b[31mNameError\u001b[39m                                 Traceback (most recent call last)",
      "\u001b[36mCell\u001b[39m\u001b[36m \u001b[39m\u001b[32mIn[1]\u001b[39m\u001b[32m, line 1\u001b[39m\n\u001b[32m----> \u001b[39m\u001b[32m1\u001b[39m \u001b[43mnews\u001b[49m.ycombinator.com/robots.txt\n",
      "\u001b[31mNameError\u001b[39m: name 'news' is not defined"
     ]
    }
   ],
   "source": [
    "news.ycombinator.com/robots.txt"
   ]
  },
  {
   "cell_type": "markdown",
   "metadata": {},
   "source": [
    "Grab the first 5 pages of stories from hackernews.  For each story, grab the following data: \n",
    "\n",
    "* Rank (the number of the story on hacker news)\n",
    "* Length of the title\n",
    "* Age, in hours (note, some stories are days or minutes old.  You should be able to handle this)\n",
    "* Points (note, some stories don't have scores! Give them 0 points)\n",
    "* Number of comments (again, some stories have no comments.  Mark them 0)"
   ]
  },
  {
   "cell_type": "code",
   "execution_count": 12,
   "metadata": {},
   "outputs": [],
   "source": [
    "import requests\n",
    "from bs4 import BeautifulSoup\n",
    "import pandas as pd\n",
    "import time\n",
    "import re\n",
    "# converts time string into hours as a float\n",
    "def parse_age(age_str):\n",
    "    #minutes to hours\n",
    "    if 'minute' in age_str:\n",
    "        return int(re.search(r'\\d+', age_str).group()) / 60 \n",
    "    elif 'hour' in age_str:\n",
    "        return int(re.search(r'\\d+', age_str).group())\n",
    "    #days to hours\n",
    "    elif 'day' in age_str:\n",
    "        return int(re.search(r'\\d+', age_str).group()) * 24\n",
    "    return 0\n",
    "\n",
    "#List to store each story's data\n",
    "stories = []\n",
    "#5 pages of Hacker News\n",
    "for page in range(1, 6):\n",
    "    #construct the URL for each page\n",
    "    url = f'https://news.ycombinator.com/news?p={page}'\n",
    "    #send HTTP GET request\n",
    "    res = requests.get(url)\n",
    "    #parse the HTML content\n",
    "    soup = BeautifulSoup(res.text, 'html.parser')\n",
    "    #select all story rows\n",
    "    items = soup.select('.athing')\n",
    "    \n",
    "    for item in items:\n",
    "        #get the story title and compute its length\n",
    "        title_elem = item.select_one('.titleline > a')\n",
    "        title = title_elem.get_text() if title_elem else ''\n",
    "        title_length = len(title)\n",
    "        #get the story's rank on the page\n",
    "        rank_elem = item.select_one('.rank')\n",
    "        rank = int(rank_elem.text.replace('.', '')) if rank_elem else None\n",
    "        #get the row with metadata (age, score, comments)\n",
    "        subtext = item.find_next_sibling('tr').select_one('.subtext')\n",
    "        #extract age and convert to hours\n",
    "        age_elem = subtext.select_one('.age') if subtext else None\n",
    "        age = parse_age(age_elem.text) if age_elem else None\n",
    "        #extract points\n",
    "        score_elem = subtext.select_one('.score') if subtext else None\n",
    "        points = int(score_elem.text.replace(' points', '')) if score_elem else 0\n",
    "        #extract comments\n",
    "        comment_text = subtext.find_all('a')[-1].text if subtext else '0 comments'\n",
    "        match = re.search(r'\\d+', comment_text)\n",
    "        comments = int(match.group()) if match else 0\n",
    "        #store the extracted data in a dictionary\n",
    "        stories.append({\n",
    "            'Rank': rank,\n",
    "            'TitleLength': title_length,\n",
    "            'AgeHours': age,\n",
    "            'Points': points,\n",
    "            'Comments': comments\n",
    "        })\n",
    "        \n",
    "    time.sleep(1)  \n",
    "#convert the list of stories to df\n",
    "df = pd.DataFrame(stories)\n",
    "#remove rows with missing values\n",
    "df.dropna(inplace=True)\n",
    "#save to csv file\n",
    "df.to_csv('hn_stories.csv', index=False)"
   ]
  },
  {
   "cell_type": "markdown",
   "metadata": {},
   "source": [
    "## Part 2 Regression\n",
    "\n",
    "We're interested in how to get a high-ranking story on Hackernews.  Explore several possible least squares regressions to predict a story's rank based on the other variables (or combinations thereof).  Include at least 3 different regressions.  Compare/contrast them.  Which is the most useful.  Are there linear relationships between any of the variables?  How about other relationships like inverse linear (1/x)?"
   ]
  },
  {
   "cell_type": "code",
   "execution_count": 13,
   "metadata": {},
   "outputs": [
    {
     "name": "stdout",
     "output_type": "stream",
     "text": [
      "Linear R^2: 0.4072518963444748\n",
      "Poly R^2: 0.6023554741024457\n"
     ]
    }
   ],
   "source": [
    "import numpy as np\n",
    "from sklearn.linear_model import LinearRegression\n",
    "import matplotlib.pyplot as plt\n",
    "from sklearn.preprocessing import PolynomialFeatures\n",
    "from sklearn.metrics import r2_score\n",
    "\n",
    "df = pd.read_csv('hn_stories.csv')\n",
    "X = df[['Points', 'Comments', 'AgeHours', 'TitleLength']]\n",
    "y = df['Rank']\n",
    "\n",
    "#Linear\n",
    "lr = LinearRegression().fit(X, y)\n",
    "print(\"Linear R^2:\", lr.score(X, y))\n",
    "\n",
    "#Inverse Transform\n",
    "X_inv = 1 / (X + 1)\n",
    "lr_inv = LinearRegression().fit(X_inv, y)\n",
    "\n",
    "#Polynomial\n",
    "poly = PolynomialFeatures(degree=2, include_bias=False)\n",
    "X_poly = poly.fit_transform(X)\n",
    "lr_poly = LinearRegression().fit(X_poly, y)\n",
    "print(\"Poly R^2:\", lr_poly.score(X_poly, y))"
   ]
  },
  {
   "cell_type": "markdown",
   "metadata": {},
   "source": [
    "\n",
    "## Part 3 Classification\n",
    "\n",
    "As smart people, we know that your rank on HN doesn't matter, as long as you're on the front page.  Use logistic regression to attempt to classify whether or not an article will be on the front page, given the other (non-rank) variables.  Note, you'll need to transform the rank variable into an indicator variable (1 for front page, 0 for not), for example.  \n",
    "\n",
    "Include plots showing your regression (for the functions of 1 or 2 variables).  What do your regressions tell you about making the front page?\n"
   ]
  },
  {
   "cell_type": "code",
   "execution_count": 14,
   "metadata": {},
   "outputs": [],
   "source": [
    "df['FrontPage'] = (df['Rank'] <= 30).astype(int)\n",
    "#Transform Rank into binary"
   ]
  },
  {
   "cell_type": "code",
   "execution_count": 16,
   "metadata": {},
   "outputs": [
    {
     "name": "stdout",
     "output_type": "stream",
     "text": [
      "Classification Report:\n",
      "               precision    recall  f1-score   support\n",
      "\n",
      "           0       0.96      0.90      0.93        30\n",
      "           1       0.70      0.88      0.78         8\n",
      "\n",
      "    accuracy                           0.89        38\n",
      "   macro avg       0.83      0.89      0.85        38\n",
      "weighted avg       0.91      0.89      0.90        38\n",
      "\n"
     ]
    },
    {
     "data": {
      "image/png": "[encoded data removed]",
      "text/plain": [
       "<Figure size 640x480 with 1 Axes>"
      ]
     },
     "metadata": {},
     "output_type": "display_data"
    }
   ],
   "source": [
    "from sklearn.linear_model import LogisticRegression\n",
    "from sklearn.model_selection import train_test_split\n",
    "from sklearn.metrics import classification_report\n",
    "\n",
    "X = df[['Points', 'Comments', 'AgeHours', 'TitleLength']]\n",
    "y = df['FrontPage']\n",
    "\n",
    "X_train, X_test, y_train, y_test = train_test_split(X, y, stratify=y)\n",
    "\n",
    "clf = LogisticRegression(max_iter=1000).fit(X_train, y_train)\n",
    "print(\"Classification Report:\\n\", classification_report(y_test, clf.predict(X_test)))\n",
    "\n",
    "#Plot for Points\n",
    "import seaborn as sns\n",
    "\n",
    "sns.regplot(x=df['Points'], y=df['FrontPage'], logistic=True, ci=None)\n",
    "plt.xlabel(\"Points\")\n",
    "plt.ylabel(\"Probability of Front Page\")\n",
    "plt.title(\"Logistic Regression: Points vs Front Page\")\n",
    "plt.show()"
   ]
  },
  {
   "cell_type": "markdown",
   "metadata": {},
   "source": [
    "## Fun extra challenge\n",
    "\n",
    "An outdated ranking formula for HN is publicly available.  Take a look at it and perform a regression using the true formula and see if least squraes regression can compute the coefficients correctly"
   ]
  },
  {
   "cell_type": "code",
   "execution_count": 17,
   "metadata": {},
   "outputs": [
    {
     "name": "stdout",
     "output_type": "stream",
     "text": [
      "R^2 with HN Score formula: 0.2491026643858424\n"
     ]
    }
   ],
   "source": [
    "df['ScoreEstimate'] = (df['Points'] - 1) / ((df['AgeHours'] + 2) ** 1.8)\n",
    "\n",
    "from sklearn.linear_model import LinearRegression\n",
    "\n",
    "model = LinearRegression()\n",
    "model.fit(df[['ScoreEstimate']], df['Rank'])\n",
    "\n",
    "print(\"R^2 with HN Score formula:\", model.score(df[['ScoreEstimate']], df['Rank']))"
   ]
  }
 ],
 "metadata": {
  "kernelspec": {
   "display_name": ".venv",
   "language": "python",
   "name": "python3"
  },
  "language_info": {
   "codemirror_mode": {
    "name": "ipython",
    "version": 3
   },
   "file_extension": ".py",
   "mimetype": "text/x-python",
   "name": "python",
   "nbconvert_exporter": "python",
   "pygments_lexer": "ipython3",
   "version": "3.13.3"
  }
 },
 "nbformat": 4,
 "nbformat_minor": 2
}
