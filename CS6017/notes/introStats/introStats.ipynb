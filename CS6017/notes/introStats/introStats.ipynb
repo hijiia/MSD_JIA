{
 "cells": [
  {
   "cell_type": "markdown",
   "metadata": {
    "nbpresent": {
     "id": "dac6427e-b8df-46f9-bfd3-b24427a73993"
    },
    "slideshow": {
     "slide_type": "slide"
    }
   },
   "source": [
    "# Introduction to Descriptive Statistics\n",
    "Adapted from *COMP 5360 / MATH 4100, University of Utah, http://datasciencecourse.net/*\n",
    "\n",
    "In this lecture, we'll cover \n",
    "- variable types \n",
    "- descriptive statistics in python (min, max, mean, median, std, var, histograms, quantiles) \n",
    "- correlation vs causation\n",
    "- confounding variables \n",
    "- descriptive vs. inferential statistics\n",
    "- discrete and continuous random variables (e.g.: Bernouilli, Binomial, Normal)"
   ]
  },
  {
   "cell_type": "markdown",
   "metadata": {
    "slideshow": {
     "slide_type": "slide"
    }
   },
   "source": [
    "## Variable types\n",
    "- **discrete variables**: values are discrete (e.g., year born, T/F)\n",
    "- **continuous variables**: values are real numbers (e.g., length)\n",
    "\n",
    "## Levels of measurement\n",
    "- **Categorical**: Unordered variables \n",
    "- **Ordinal**: There is an ordering but no implication of equal distance between the different points of the scale. \n",
    "- **Interval**: There are equal differences between successive points on the scale but the position of zero is arbitrary. \n",
    "- **Ratio**: The relative magnitudes of scores and the differences between them matter. The position of zero is fixed. "
   ]
  },
  {
   "cell_type": "markdown",
   "metadata": {
    "slideshow": {
     "slide_type": "slide"
    }
   },
   "source": [
    "## Categorical variables\n",
    "Unordered variables \n",
    "\n",
    "Examples: \n",
    "- Survey responses: sex (M/F), true or false (T/F), yes or no (Y/N) \n",
    "- size: S/M/L/XL \n",
    "- color: red, blue, green, etc.\n"
   ]
  },
  {
   "cell_type": "markdown",
   "metadata": {
    "slideshow": {
     "slide_type": "slide"
    }
   },
   "source": [
    "## Ordinal Variables\n",
    "There is an ordering but no implication of equal distance between the different points of the scale. \n",
    "\n",
    "\n",
    "Examples:\n",
    "- educational level (high school, some college, degree, graduate…) \n",
    "- on Likert scale of 1 to 5, how satisfied are you with your instructor? \n",
    "- social class (lower, middle, upper) \n",
    "\n",
    "<img src=\"OrdinalVariables.png\"/>\n"
   ]
  },
  {
   "cell_type": "markdown",
   "metadata": {
    "slideshow": {
     "slide_type": "slide"
    }
   },
   "source": [
    "## Interval Variables \n",
    "There are equal differences between successive points on the scale but the position of zero is arbitrary.\n",
    "\n",
    "Examples:\n",
    "- Measurement of temperature using the Celsius or Fahrenheit scales.\n",
    "- Longitude \n",
    "\n",
    "![Thermometers](Thermometer_CF.png)\n"
   ]
  },
  {
   "cell_type": "markdown",
   "metadata": {
    "slideshow": {
     "slide_type": "slide"
    }
   },
   "source": [
    "## Ratio Variables\n",
    "The relative magnitudes of scores and the differences between them matter. The position of zero is fixed.\n",
    "\n",
    "Examples:\n",
    "- Absolute measure of temperature (Kelvin scale) \n",
    "- Age\n",
    "- Weight\n",
    "- Length\n",
    "\n",
    "<img src=\"Ruler.png\" width=\"50%\"  alt=\"https://commons.wikimedia.org/wiki/File:Metre_pliant_500px.png\"/>\n"
   ]
  },
  {
   "cell_type": "markdown",
   "metadata": {
    "slideshow": {
     "slide_type": "slide"
    }
   },
   "source": [
    "## Quiz!\n",
    "\n",
    "For each of the following variables, what is the variable type (discrete vs. continuous) and level of measurement (categorical, ordinal, interval, or ratio)?</br>\n",
    "类别型（categorical）、顺序型（ordinal）、区间型（interval）、比率型（ratio）。</br>\n",
    "\t•\t离散变量（Discrete）：</br>\n",
    "\t\t只能取特定的、可数的值（通常是整数）。例如：人数（1, 2, 3…）、考试成绩中的正确题数、骰子的点数。不能取中间值，比如“2.5个人”没有意义。</br>\n",
    "\t•\t连续变量（Continuous）：</br>\n",
    "\t\t可以在一个区间内取任意值（包括小数）。例如：身高（170.2 cm）、体重（65.5 kg）、时间（3.14 秒）。可以有无限多的可能值，数值之间可以无限细分。</br>\n",
    "\n",
    "1. Lattitude\n",
    "2. Olympic 50 meter race times\n",
    "3. Olympic floor gymnastics score\n",
    "4. College major\n",
    "6. Amazon rating for a product\n",
    "\n",
    "Can you think of another example of an interval variable? \n",
    "\n",
    "\n",
    "\n",
    "<img src=\"purity.png\" width=\"90%\"  alt=\"https://xkcd.com/435/\"/>\n"
   ]
  },
  {
   "cell_type": "markdown",
   "metadata": {
    "slideshow": {
     "slide_type": "slide"
    }
   },
   "source": [
    "## Descriptive Statistics\n",
    "\n",
    "The goal is to describe a dataset with a small number of statistics or figures  \n",
    "\n",
    "Suppose we are given a sample, $x_1, x_2, \\ldots, x_n$ of real values \n",
    "\n",
    "Some *descriptive statitsics* for this data are the min, max, median, and mean, $\\frac{1}{n} \\sum_{i=1}^n x_i$\n",
    "\n",
    "How do we compute these using python? \n"
   ]
  },
  {
   "cell_type": "code",
   "execution_count": 2,
   "metadata": {
    "slideshow": {
     "slide_type": "slide"
    }
   },
   "outputs": [
    {
     "name": "stdout",
     "output_type": "stream",
     "text": [
      "KeysView(RcParams({'_internal.classic_mode': False,\n",
      "          'agg.path.chunksize': 0,\n",
      "          'animation.bitrate': -1,\n",
      "          'animation.codec': 'h264',\n",
      "          'animation.convert_args': ['-layers', 'OptimizePlus'],\n",
      "          'animation.convert_path': 'convert',\n",
      "          'animation.embed_limit': 20.0,\n",
      "          'animation.ffmpeg_args': [],\n",
      "          'animation.ffmpeg_path': 'ffmpeg',\n",
      "          'animation.frame_format': 'png',\n",
      "          'animation.html': 'none',\n",
      "          'animation.writer': 'ffmpeg',\n",
      "          'axes.autolimit_mode': 'data',\n",
      "          'axes.axisbelow': True,\n",
      "          'axes.edgecolor': 'white',\n",
      "          'axes.facecolor': '#E5E5E5',\n",
      "          'axes.formatter.limits': [-5, 6],\n",
      "          'axes.formatter.min_exponent': 0,\n",
      "          'axes.formatter.offset_threshold': 4,\n",
      "          'axes.formatter.use_locale': False,\n",
      "          'axes.formatter.use_mathtext': False,\n",
      "          'axes.formatter.useoffset': True,\n",
      "          'axes.grid': True,\n",
      "          'axes.grid.axis': 'both',\n",
      "          'axes.grid.which': 'major',\n",
      "          'axes.labelcolor': '#555555',\n",
      "          'axes.labelpad': 4.0,\n",
      "          'axes.labelsize': 'large',\n",
      "          'axes.labelweight': 'normal',\n",
      "          'axes.linewidth': 1.0,\n",
      "          'axes.prop_cycle': cycler('color', ['#E24A33', '#348ABD', '#988ED5', '#777777', '#FBC15E', '#8EBA42', '#FFB5B8']),\n",
      "          'axes.spines.bottom': True,\n",
      "          'axes.spines.left': True,\n",
      "          'axes.spines.right': True,\n",
      "          'axes.spines.top': True,\n",
      "          'axes.titlecolor': 'auto',\n",
      "          'axes.titlelocation': 'center',\n",
      "          'axes.titlepad': 6.0,\n",
      "          'axes.titlesize': 'x-large',\n",
      "          'axes.titleweight': 'normal',\n",
      "          'axes.titley': None,\n",
      "          'axes.unicode_minus': True,\n",
      "          'axes.xmargin': 0.05,\n",
      "          'axes.ymargin': 0.05,\n",
      "          'axes.zmargin': 0.05,\n",
      "          'axes3d.automargin': False,\n",
      "          'axes3d.grid': True,\n",
      "          'axes3d.mouserotationstyle': 'arcball',\n",
      "          'axes3d.trackballborder': 0.2,\n",
      "          'axes3d.trackballsize': 0.667,\n",
      "          'axes3d.xaxis.panecolor': (0.95, 0.95, 0.95, 0.5),\n",
      "          'axes3d.yaxis.panecolor': (0.9, 0.9, 0.9, 0.5),\n",
      "          'axes3d.zaxis.panecolor': (0.925, 0.925, 0.925, 0.5),\n",
      "          'backend': 'inline',\n",
      "          'backend_fallback': True,\n",
      "          'boxplot.bootstrap': None,\n",
      "          'boxplot.boxprops.color': 'black',\n",
      "          'boxplot.boxprops.linestyle': '-',\n",
      "          'boxplot.boxprops.linewidth': 1.0,\n",
      "          'boxplot.capprops.color': 'black',\n",
      "          'boxplot.capprops.linestyle': '-',\n",
      "          'boxplot.capprops.linewidth': 1.0,\n",
      "          'boxplot.flierprops.color': 'black',\n",
      "          'boxplot.flierprops.linestyle': 'none',\n",
      "          'boxplot.flierprops.linewidth': 1.0,\n",
      "          'boxplot.flierprops.marker': 'o',\n",
      "          'boxplot.flierprops.markeredgecolor': 'black',\n",
      "          'boxplot.flierprops.markeredgewidth': 1.0,\n",
      "          'boxplot.flierprops.markerfacecolor': 'none',\n",
      "          'boxplot.flierprops.markersize': 6.0,\n",
      "          'boxplot.meanline': False,\n",
      "          'boxplot.meanprops.color': 'C2',\n",
      "          'boxplot.meanprops.linestyle': '--',\n",
      "          'boxplot.meanprops.linewidth': 1.0,\n",
      "          'boxplot.meanprops.marker': '^',\n",
      "          'boxplot.meanprops.markeredgecolor': 'C2',\n",
      "          'boxplot.meanprops.markerfacecolor': 'C2',\n",
      "          'boxplot.meanprops.markersize': 6.0,\n",
      "          'boxplot.medianprops.color': 'C1',\n",
      "          'boxplot.medianprops.linestyle': '-',\n",
      "          'boxplot.medianprops.linewidth': 1.0,\n",
      "          'boxplot.notch': False,\n",
      "          'boxplot.patchartist': False,\n",
      "          'boxplot.showbox': True,\n",
      "          'boxplot.showcaps': True,\n",
      "          'boxplot.showfliers': True,\n",
      "          'boxplot.showmeans': False,\n",
      "          'boxplot.vertical': True,\n",
      "          'boxplot.whiskerprops.color': 'black',\n",
      "          'boxplot.whiskerprops.linestyle': '-',\n",
      "          'boxplot.whiskerprops.linewidth': 1.0,\n",
      "          'boxplot.whiskers': 1.5,\n",
      "          'contour.algorithm': 'mpl2014',\n",
      "          'contour.corner_mask': True,\n",
      "          'contour.linewidth': None,\n",
      "          'contour.negative_linestyle': 'dashed',\n",
      "          'date.autoformatter.day': '%Y-%m-%d',\n",
      "          'date.autoformatter.hour': '%m-%d %H',\n",
      "          'date.autoformatter.microsecond': '%M:%S.%f',\n",
      "          'date.autoformatter.minute': '%d %H:%M',\n",
      "          'date.autoformatter.month': '%Y-%m',\n",
      "          'date.autoformatter.second': '%H:%M:%S',\n",
      "          'date.autoformatter.year': '%Y',\n",
      "          'date.converter': 'auto',\n",
      "          'date.epoch': '1970-01-01T00:00:00',\n",
      "          'date.interval_multiples': True,\n",
      "          'docstring.hardcopy': False,\n",
      "          'errorbar.capsize': 0.0,\n",
      "          'figure.autolayout': False,\n",
      "          'figure.constrained_layout.h_pad': 0.04167,\n",
      "          'figure.constrained_layout.hspace': 0.02,\n",
      "          'figure.constrained_layout.use': False,\n",
      "          'figure.constrained_layout.w_pad': 0.04167,\n",
      "          'figure.constrained_layout.wspace': 0.02,\n",
      "          'figure.dpi': 100.0,\n",
      "          'figure.edgecolor': '0.50',\n",
      "          'figure.facecolor': 'white',\n",
      "          'figure.figsize': [10.0, 6.0],\n",
      "          'figure.frameon': True,\n",
      "          'figure.hooks': [],\n",
      "          'figure.labelsize': 'large',\n",
      "          'figure.labelweight': 'normal',\n",
      "          'figure.max_open_warning': 20,\n",
      "          'figure.raise_window': True,\n",
      "          'figure.subplot.bottom': 0.11,\n",
      "          'figure.subplot.hspace': 0.2,\n",
      "          'figure.subplot.left': 0.125,\n",
      "          'figure.subplot.right': 0.9,\n",
      "          'figure.subplot.top': 0.88,\n",
      "          'figure.subplot.wspace': 0.2,\n",
      "          'figure.titlesize': 'large',\n",
      "          'figure.titleweight': 'normal',\n",
      "          'font.cursive': ['Apple Chancery',\n",
      "                           'Textile',\n",
      "                           'Zapf Chancery',\n",
      "                           'Sand',\n",
      "                           'Script MT',\n",
      "                           'Felipa',\n",
      "                           'Comic Neue',\n",
      "                           'Comic Sans MS',\n",
      "                           'cursive'],\n",
      "          'font.family': ['sans-serif'],\n",
      "          'font.fantasy': ['Chicago',\n",
      "                           'Charcoal',\n",
      "                           'Impact',\n",
      "                           'Western',\n",
      "                           'xkcd script',\n",
      "                           'fantasy'],\n",
      "          'font.monospace': ['DejaVu Sans Mono',\n",
      "                             'Bitstream Vera Sans Mono',\n",
      "                             'Computer Modern Typewriter',\n",
      "                             'Andale Mono',\n",
      "                             'Nimbus Mono L',\n",
      "                             'Courier New',\n",
      "                             'Courier',\n",
      "                             'Fixed',\n",
      "                             'Terminal',\n",
      "                             'monospace'],\n",
      "          'font.sans-serif': ['DejaVu Sans',\n",
      "                              'Bitstream Vera Sans',\n",
      "                              'Computer Modern Sans Serif',\n",
      "                              'Lucida Grande',\n",
      "                              'Verdana',\n",
      "                              'Geneva',\n",
      "                              'Lucid',\n",
      "                              'Arial',\n",
      "                              'Helvetica',\n",
      "                              'Avant Garde',\n",
      "                              'sans-serif'],\n",
      "          'font.serif': ['DejaVu Serif',\n",
      "                         'Bitstream Vera Serif',\n",
      "                         'Computer Modern Roman',\n",
      "                         'New Century Schoolbook',\n",
      "                         'Century Schoolbook L',\n",
      "                         'Utopia',\n",
      "                         'ITC Bookman',\n",
      "                         'Bookman',\n",
      "                         'Nimbus Roman No9 L',\n",
      "                         'Times New Roman',\n",
      "                         'Times',\n",
      "                         'Palatino',\n",
      "                         'Charter',\n",
      "                         'serif'],\n",
      "          'font.size': 10.0,\n",
      "          'font.stretch': 'normal',\n",
      "          'font.style': 'normal',\n",
      "          'font.variant': 'normal',\n",
      "          'font.weight': 'normal',\n",
      "          'grid.alpha': 1.0,\n",
      "          'grid.color': 'white',\n",
      "          'grid.linestyle': '-',\n",
      "          'grid.linewidth': 0.8,\n",
      "          'hatch.color': 'black',\n",
      "          'hatch.linewidth': 1.0,\n",
      "          'hist.bins': 10,\n",
      "          'image.aspect': 'equal',\n",
      "          'image.cmap': 'viridis',\n",
      "          'image.composite_image': True,\n",
      "          'image.interpolation': 'auto',\n",
      "          'image.interpolation_stage': 'auto',\n",
      "          'image.lut': 256,\n",
      "          'image.origin': 'upper',\n",
      "          'image.resample': True,\n",
      "          'interactive': True,\n",
      "          'keymap.back': ['left', 'c', 'backspace', 'MouseButton.BACK'],\n",
      "          'keymap.copy': ['ctrl+c', 'cmd+c'],\n",
      "          'keymap.forward': ['right', 'v', 'MouseButton.FORWARD'],\n",
      "          'keymap.fullscreen': ['f', 'ctrl+f'],\n",
      "          'keymap.grid': ['g'],\n",
      "          'keymap.grid_minor': ['G'],\n",
      "          'keymap.help': ['f1'],\n",
      "          'keymap.home': ['h', 'r', 'home'],\n",
      "          'keymap.pan': ['p'],\n",
      "          'keymap.quit': ['ctrl+w', 'cmd+w', 'q'],\n",
      "          'keymap.quit_all': [],\n",
      "          'keymap.save': ['s', 'ctrl+s'],\n",
      "          'keymap.xscale': ['k', 'L'],\n",
      "          'keymap.yscale': ['l'],\n",
      "          'keymap.zoom': ['o'],\n",
      "          'legend.borderaxespad': 0.5,\n",
      "          'legend.borderpad': 0.4,\n",
      "          'legend.columnspacing': 2.0,\n",
      "          'legend.edgecolor': '0.8',\n",
      "          'legend.facecolor': 'inherit',\n",
      "          'legend.fancybox': True,\n",
      "          'legend.fontsize': 'medium',\n",
      "          'legend.framealpha': 0.8,\n",
      "          'legend.frameon': True,\n",
      "          'legend.handleheight': 0.7,\n",
      "          'legend.handlelength': 2.0,\n",
      "          'legend.handletextpad': 0.8,\n",
      "          'legend.labelcolor': 'None',\n",
      "          'legend.labelspacing': 0.5,\n",
      "          'legend.loc': 'best',\n",
      "          'legend.markerscale': 1.0,\n",
      "          'legend.numpoints': 1,\n",
      "          'legend.scatterpoints': 1,\n",
      "          'legend.shadow': False,\n",
      "          'legend.title_fontsize': None,\n",
      "          'lines.antialiased': True,\n",
      "          'lines.color': 'C0',\n",
      "          'lines.dash_capstyle': <CapStyle.butt: 'butt'>,\n",
      "          'lines.dash_joinstyle': <JoinStyle.round: 'round'>,\n",
      "          'lines.dashdot_pattern': [6.4, 1.6, 1.0, 1.6],\n",
      "          'lines.dashed_pattern': [3.7, 1.6],\n",
      "          'lines.dotted_pattern': [1.0, 1.65],\n",
      "          'lines.linestyle': '-',\n",
      "          'lines.linewidth': 1.5,\n",
      "          'lines.marker': 'None',\n",
      "          'lines.markeredgecolor': 'auto',\n",
      "          'lines.markeredgewidth': 1.0,\n",
      "          'lines.markerfacecolor': 'auto',\n",
      "          'lines.markersize': 6.0,\n",
      "          'lines.scale_dashes': True,\n",
      "          'lines.solid_capstyle': <CapStyle.projecting: 'projecting'>,\n",
      "          'lines.solid_joinstyle': <JoinStyle.round: 'round'>,\n",
      "          'macosx.window_mode': 'system',\n",
      "          'markers.fillstyle': 'full',\n",
      "          'mathtext.bf': 'sans:bold',\n",
      "          'mathtext.bfit': 'sans:italic:bold',\n",
      "          'mathtext.cal': 'cursive',\n",
      "          'mathtext.default': 'it',\n",
      "          'mathtext.fallback': 'cm',\n",
      "          'mathtext.fontset': 'dejavusans',\n",
      "          'mathtext.it': 'sans:italic',\n",
      "          'mathtext.rm': 'sans',\n",
      "          'mathtext.sf': 'sans',\n",
      "          'mathtext.tt': 'monospace',\n",
      "          'patch.antialiased': True,\n",
      "          'patch.edgecolor': '#EEEEEE',\n",
      "          'patch.facecolor': '#348ABD',\n",
      "          'patch.force_edgecolor': False,\n",
      "          'patch.linewidth': 0.5,\n",
      "          'path.effects': [],\n",
      "          'path.simplify': True,\n",
      "          'path.simplify_threshold': 0.111111111111,\n",
      "          'path.sketch': None,\n",
      "          'path.snap': True,\n",
      "          'pcolor.shading': 'auto',\n",
      "          'pcolormesh.snap': True,\n",
      "          'pdf.compression': 6,\n",
      "          'pdf.fonttype': 3,\n",
      "          'pdf.inheritcolor': False,\n",
      "          'pdf.use14corefonts': False,\n",
      "          'pgf.preamble': '',\n",
      "          'pgf.rcfonts': True,\n",
      "          'pgf.texsystem': 'xelatex',\n",
      "          'polaraxes.grid': True,\n",
      "          'ps.distiller.res': 6000,\n",
      "          'ps.fonttype': 3,\n",
      "          'ps.papersize': 'letter',\n",
      "          'ps.useafm': False,\n",
      "          'ps.usedistiller': None,\n",
      "          'savefig.bbox': None,\n",
      "          'savefig.directory': '~',\n",
      "          'savefig.dpi': 'figure',\n",
      "          'savefig.edgecolor': 'auto',\n",
      "          'savefig.facecolor': 'auto',\n",
      "          'savefig.format': 'png',\n",
      "          'savefig.orientation': 'portrait',\n",
      "          'savefig.pad_inches': 0.1,\n",
      "          'savefig.transparent': False,\n",
      "          'scatter.edgecolors': 'face',\n",
      "          'scatter.marker': 'o',\n",
      "          'svg.fonttype': 'path',\n",
      "          'svg.hashsalt': None,\n",
      "          'svg.id': None,\n",
      "          'svg.image_inline': True,\n",
      "          'text.antialiased': True,\n",
      "          'text.color': 'black',\n",
      "          'text.hinting': 'force_autohint',\n",
      "          'text.hinting_factor': 8,\n",
      "          'text.kerning_factor': 0,\n",
      "          'text.latex.preamble': '',\n",
      "          'text.parse_math': True,\n",
      "          'text.usetex': False,\n",
      "          'timezone': 'UTC',\n",
      "          'tk.window_focus': False,\n",
      "          'toolbar': 'toolbar2',\n",
      "          'webagg.address': '127.0.0.1',\n",
      "          'webagg.open_in_browser': True,\n",
      "          'webagg.port': 8988,\n",
      "          'webagg.port_retries': 50,\n",
      "          'xaxis.labellocation': 'center',\n",
      "          'xtick.alignment': 'center',\n",
      "          'xtick.bottom': True,\n",
      "          'xtick.color': '#555555',\n",
      "          'xtick.direction': 'out',\n",
      "          'xtick.labelbottom': True,\n",
      "          'xtick.labelcolor': 'inherit',\n",
      "          'xtick.labelsize': 'medium',\n",
      "          'xtick.labeltop': False,\n",
      "          'xtick.major.bottom': True,\n",
      "          'xtick.major.pad': 3.5,\n",
      "          'xtick.major.size': 3.5,\n",
      "          'xtick.major.top': True,\n",
      "          'xtick.major.width': 0.8,\n",
      "          'xtick.minor.bottom': True,\n",
      "          'xtick.minor.ndivs': 'auto',\n",
      "          'xtick.minor.pad': 3.4,\n",
      "          'xtick.minor.size': 2.0,\n",
      "          'xtick.minor.top': True,\n",
      "          'xtick.minor.visible': False,\n",
      "          'xtick.minor.width': 0.6,\n",
      "          'xtick.top': False,\n",
      "          'yaxis.labellocation': 'center',\n",
      "          'ytick.alignment': 'center_baseline',\n",
      "          'ytick.color': '#555555',\n",
      "          'ytick.direction': 'out',\n",
      "          'ytick.labelcolor': 'inherit',\n",
      "          'ytick.labelleft': True,\n",
      "          'ytick.labelright': False,\n",
      "          'ytick.labelsize': 'medium',\n",
      "          'ytick.left': True,\n",
      "          'ytick.major.left': True,\n",
      "          'ytick.major.pad': 3.5,\n",
      "          'ytick.major.right': True,\n",
      "          'ytick.major.size': 3.5,\n",
      "          'ytick.major.width': 0.8,\n",
      "          'ytick.minor.left': True,\n",
      "          'ytick.minor.ndivs': 'auto',\n",
      "          'ytick.minor.pad': 3.4,\n",
      "          'ytick.minor.right': True,\n",
      "          'ytick.minor.size': 2.0,\n",
      "          'ytick.minor.visible': False,\n",
      "          'ytick.minor.width': 0.6,\n",
      "          'ytick.right': False}))\n"
     ]
    }
   ],
   "source": [
    "# First import python packages\n",
    "# pip3 install numpy matplotlib\n",
    "#- `numpy`：数值计算库，主要用于处理数组。\n",
    "#- `matplotlib`：数据可视化库，生成图表。\n",
    "#- `pandas`：处理表格数据（比如 CSV 文件），类似 Excel 的操作。\n",
    "import numpy as np\n",
    "import pandas as pd\n",
    "import matplotlib.pyplot as plt\n",
    "# - 让图表在 Notebook 中直接显示，而不是弹出新窗口。\n",
    "%matplotlib inline \n",
    "#设置和读取绘图的默认样式参数（rc = “run commands” 的缩写）plt.rcParams 是一个 全局变量（Global Variable）它的类型是 字典（dict）存储着所有绘图默认设置。        \n",
    "plt.rcParams['figure.figsize'] = (10, 6)  #设置默认图像尺寸为 10 英寸宽，6 英寸高\n",
    "#plt.rcParams['figure.figsize'] = [10, 6]  # ✅ 列表也可以，但推荐用元组\n",
    "#plt.rcParams['figure.figsize'] = {10, 6}  # ❌ 错误：这是一个 set 集合，不是元组，集合是无序的，不能保证是先宽后高\n",
    "plt.style.use('ggplot')    # R 语言 `ggplot2` 风格的主题\n",
    "\n",
    "\n",
    "print(plt.rcParams.keys())"
   ]
  },
  {
   "cell_type": "markdown",
   "metadata": {
    "slideshow": {
     "slide_type": "slide"
    }
   },
   "source": [
    "## Alta monthly average snowfall, October - April\n",
    "compiled using data from 1980 to 2014 <br>\n",
    "https://www.alta.com/conditions/weather-observations/snowfall-history"
   ]
  },
  {
   "cell_type": "code",
   "execution_count": null,
   "metadata": {},
   "outputs": [],
   "source": [
    "import numpy as np\n",
    "\n",
    "a = np.array([1, 2.5, 3])\n",
    "print(a)                  # [1.  2.5 3. ]\n",
    "print(a.dtype)            # float64 （所有都转成了 float）numpy.array 中的元素推荐类型相同"
   ]
  },
  {
   "cell_type": "markdown",
   "metadata": {},
   "source": []
  },
  {
   "cell_type": "code",
   "execution_count": 3,
   "metadata": {
    "nbpresent": {
     "id": "61e1167e-99ef-4b5d-b717-07a46077a091"
    },
    "slideshow": {
     "slide_type": "-"
    }
   },
   "outputs": [
    {
     "name": "stdout",
     "output_type": "stream",
     "text": [
      "<class 'numpy.ndarray'>\n",
      "<class 'numpy.float64'>\n"
     ]
    }
   ],
   "source": [
    "Alta_avg_month_snow = np.array([28.50,76.77,92.00,95.40,90.85,99.66,80.00])\n",
    "\n",
    "# this is a list of floats\n",
    "print(type(Alta_avg_month_snow))\n",
    "print(type(Alta_avg_month_snow[0]))"
   ]
  },
  {
   "cell_type": "code",
   "execution_count": 4,
   "metadata": {},
   "outputs": [
    {
     "data": {
      "text/plain": [
       "7"
      ]
     },
     "execution_count": 4,
     "metadata": {},
     "output_type": "execute_result"
    }
   ],
   "source": [
    "# how many months data do we have?\n",
    "len(Alta_avg_month_snow)"
   ]
  },
  {
   "cell_type": "code",
   "execution_count": 5,
   "metadata": {},
   "outputs": [
    {
     "name": "stdout",
     "output_type": "stream",
     "text": [
      "80.4542857142857\n",
      "80.4542857142857\n"
     ]
    },
    {
     "data": {
      "text/plain": [
       "np.float64(80.4542857142857)"
      ]
     },
     "execution_count": 5,
     "metadata": {},
     "output_type": "execute_result"
    }
   ],
   "source": [
    "print(sum(Alta_avg_month_snow)/len(Alta_avg_month_snow))\n",
    "print(Alta_avg_month_snow.mean())\n",
    "np.mean(Alta_avg_month_snow)"
   ]
  },
  {
   "cell_type": "markdown",
   "metadata": {},
   "source": [
    "Numpy has methods for many basic statistics and other functions that work on \"list-like\" things"
   ]
  },
  {
   "cell_type": "code",
   "execution_count": 41,
   "metadata": {},
   "outputs": [
    {
     "data": {
      "text/plain": [
       "(28.5, 99.66)"
      ]
     },
     "execution_count": 41,
     "metadata": {},
     "output_type": "execute_result"
    }
   ],
   "source": [
    "# compute the min and max\n",
    "np.min(Alta_avg_month_snow),np.max(Alta_avg_month_snow)"
   ]
  },
  {
   "cell_type": "code",
   "execution_count": 42,
   "metadata": {
    "nbpresent": {
     "id": "86c3f014-9535-48f0-95a2-df74d16eaa69"
    }
   },
   "outputs": [
    {
     "name": "stdout",
     "output_type": "stream",
     "text": [
      "Oct March\n",
      "28.5 99.66\n"
     ]
    }
   ],
   "source": [
    "# what month do these correspond to? \n",
    "imin = np.argmin(Alta_avg_month_snow)\n",
    "imax = np.argmax(Alta_avg_month_snow)\n",
    "months = ['Oct','Nov','Dec','Jan','Feb','March','Apr']\n",
    "print(months[imin], months[imax])\n",
    "print(Alta_avg_month_snow[imin], Alta_avg_month_snow[imax])"
   ]
  },
  {
   "cell_type": "code",
   "execution_count": 44,
   "metadata": {
    "nbpresent": {
     "id": "be5bedf1-b9ed-4caa-bc3e-6c390df97946"
    }
   },
   "outputs": [
    {
     "name": "stdout",
     "output_type": "stream",
     "text": [
      "80.4542857142857\n",
      "22.509161218835104\n"
     ]
    }
   ],
   "source": [
    "# compute the mean\n",
    "print(np.mean(Alta_avg_month_snow))\n",
    "print(np.std(Alta_avg_month_snow))"
   ]
  },
  {
   "cell_type": "code",
   "execution_count": 43,
   "metadata": {
    "nbpresent": {
     "id": "4992f285-654f-485e-81ef-8a6ae18cad34"
    }
   },
   "outputs": [
    {
     "data": {
      "text/plain": [
       "90.85"
      ]
     },
     "execution_count": 43,
     "metadata": {},
     "output_type": "execute_result"
    }
   ],
   "source": [
    "# compute the median\n",
    "np.median(Alta_avg_month_snow)"
   ]
  },
  {
   "cell_type": "markdown",
   "metadata": {
    "nbpresent": {
     "id": "de60c848-d1fb-478d-a736-0ebe21762a24"
    },
    "slideshow": {
     "slide_type": "slide"
    }
   },
   "source": [
    "## Data from the 1994 census\n",
    "\n",
    "import data from the following dataset <br>\n",
    "https://archive.ics.uci.edu/ml/datasets/Adult"
   ]
  },
  {
   "cell_type": "code",
   "execution_count": 5,
   "metadata": {
    "nbpresent": {
     "id": "a6fd92a3-b57e-45c5-b216-f9f475baf8ce"
    }
   },
   "outputs": [
    {
     "name": "stdout",
     "output_type": "stream",
     "text": [
      "<class 'pandas.core.frame.DataFrame'>\n"
     ]
    }
   ],
   "source": [
    "# use pandas to import a table of data from a website\n",
    "data = pd.read_csv(\"http://archive.ics.uci.edu/ml/machine-learning-databases/adult/adult.data\", sep=\",\", \n",
    "                  names=(\"age\", \"type_employer\", \"fnlwgt\", \"education\", \"education_num\", \"marital\", \n",
    "                         \"occupation\", \"relationship\", \"race\",\"sex\",\"capital_gain\", \"capital_loss\", \n",
    "                         \"hr_per_week\",\"country\", \"income\"))\n",
    "print(type(data))"
   ]
  },
  {
   "cell_type": "code",
   "execution_count": 6,
   "metadata": {
    "scrolled": true
   },
   "outputs": [
    {
     "data": {
      "text/html": [
       "<div>\n",
       "<style scoped>\n",
       "    .dataframe tbody tr th:only-of-type {\n",
       "        vertical-align: middle;\n",
       "    }\n",
       "\n",
       "    .dataframe tbody tr th {\n",
       "        vertical-align: top;\n",
       "    }\n",
       "\n",
       "    .dataframe thead th {\n",
       "        text-align: right;\n",
       "    }\n",
       "</style>\n",
       "<table border=\"1\" class=\"dataframe\">\n",
       "  <thead>\n",
       "    <tr style=\"text-align: right;\">\n",
       "      <th></th>\n",
       "      <th>age</th>\n",
       "      <th>fnlwgt</th>\n",
       "      <th>education_num</th>\n",
       "      <th>capital_gain</th>\n",
       "      <th>capital_loss</th>\n",
       "      <th>hr_per_week</th>\n",
       "    </tr>\n",
       "  </thead>\n",
       "  <tbody>\n",
       "    <tr>\n",
       "      <th>count</th>\n",
       "      <td>32561.000000</td>\n",
       "      <td>3.256100e+04</td>\n",
       "      <td>32561.000000</td>\n",
       "      <td>32561.000000</td>\n",
       "      <td>32561.000000</td>\n",
       "      <td>32561.000000</td>\n",
       "    </tr>\n",
       "    <tr>\n",
       "      <th>mean</th>\n",
       "      <td>38.581647</td>\n",
       "      <td>1.897784e+05</td>\n",
       "      <td>10.080679</td>\n",
       "      <td>1077.648844</td>\n",
       "      <td>87.303830</td>\n",
       "      <td>40.437456</td>\n",
       "    </tr>\n",
       "    <tr>\n",
       "      <th>std</th>\n",
       "      <td>13.640433</td>\n",
       "      <td>1.055500e+05</td>\n",
       "      <td>2.572720</td>\n",
       "      <td>7385.292085</td>\n",
       "      <td>402.960219</td>\n",
       "      <td>12.347429</td>\n",
       "    </tr>\n",
       "    <tr>\n",
       "      <th>min</th>\n",
       "      <td>17.000000</td>\n",
       "      <td>1.228500e+04</td>\n",
       "      <td>1.000000</td>\n",
       "      <td>0.000000</td>\n",
       "      <td>0.000000</td>\n",
       "      <td>1.000000</td>\n",
       "    </tr>\n",
       "    <tr>\n",
       "      <th>25%</th>\n",
       "      <td>28.000000</td>\n",
       "      <td>1.178270e+05</td>\n",
       "      <td>9.000000</td>\n",
       "      <td>0.000000</td>\n",
       "      <td>0.000000</td>\n",
       "      <td>40.000000</td>\n",
       "    </tr>\n",
       "    <tr>\n",
       "      <th>50%</th>\n",
       "      <td>37.000000</td>\n",
       "      <td>1.783560e+05</td>\n",
       "      <td>10.000000</td>\n",
       "      <td>0.000000</td>\n",
       "      <td>0.000000</td>\n",
       "      <td>40.000000</td>\n",
       "    </tr>\n",
       "    <tr>\n",
       "      <th>75%</th>\n",
       "      <td>48.000000</td>\n",
       "      <td>2.370510e+05</td>\n",
       "      <td>12.000000</td>\n",
       "      <td>0.000000</td>\n",
       "      <td>0.000000</td>\n",
       "      <td>45.000000</td>\n",
       "    </tr>\n",
       "    <tr>\n",
       "      <th>max</th>\n",
       "      <td>90.000000</td>\n",
       "      <td>1.484705e+06</td>\n",
       "      <td>16.000000</td>\n",
       "      <td>99999.000000</td>\n",
       "      <td>4356.000000</td>\n",
       "      <td>99.000000</td>\n",
       "    </tr>\n",
       "  </tbody>\n",
       "</table>\n",
       "</div>"
      ],
      "text/plain": [
       "                age        fnlwgt  education_num  capital_gain  capital_loss  \\\n",
       "count  32561.000000  3.256100e+04   32561.000000  32561.000000  32561.000000   \n",
       "mean      38.581647  1.897784e+05      10.080679   1077.648844     87.303830   \n",
       "std       13.640433  1.055500e+05       2.572720   7385.292085    402.960219   \n",
       "min       17.000000  1.228500e+04       1.000000      0.000000      0.000000   \n",
       "25%       28.000000  1.178270e+05       9.000000      0.000000      0.000000   \n",
       "50%       37.000000  1.783560e+05      10.000000      0.000000      0.000000   \n",
       "75%       48.000000  2.370510e+05      12.000000      0.000000      0.000000   \n",
       "max       90.000000  1.484705e+06      16.000000  99999.000000   4356.000000   \n",
       "\n",
       "        hr_per_week  \n",
       "count  32561.000000  \n",
       "mean      40.437456  \n",
       "std       12.347429  \n",
       "min        1.000000  \n",
       "25%       40.000000  \n",
       "50%       40.000000  \n",
       "75%       45.000000  \n",
       "max       99.000000  "
      ]
     },
     "execution_count": 6,
     "metadata": {},
     "output_type": "execute_result"
    }
   ],
   "source": [
    "data.describe()"
   ]
  },
  {
   "cell_type": "code",
   "execution_count": 8,
   "metadata": {},
   "outputs": [
    {
     "data": {
      "text/plain": [
       "pandas.core.frame.DataFrame"
      ]
     },
     "execution_count": 8,
     "metadata": {},
     "output_type": "execute_result"
    }
   ],
   "source": [
    "type(data)      #series\n",
    "#type(data[\"age\"])"
   ]
  },
  {
   "cell_type": "code",
   "execution_count": 49,
   "metadata": {},
   "outputs": [
    {
     "data": {
      "text/plain": [
       "0    39\n",
       "1    50\n",
       "2    38\n",
       "3    53\n",
       "4    28\n",
       "Name: age, dtype: int64"
      ]
     },
     "execution_count": 49,
     "metadata": {},
     "output_type": "execute_result"
    }
   ],
   "source": [
    "data[\"age\"].head()"
   ]
  },
  {
   "cell_type": "code",
   "execution_count": null,
   "metadata": {},
   "outputs": [],
   "source": []
  },
  {
   "cell_type": "code",
   "execution_count": 9,
   "metadata": {},
   "outputs": [
    {
     "data": {
      "text/plain": [
       "[39,\n",
       " 50,\n",
       " 38,\n",
       " 53,\n",
       " 28,\n",
       " 37,\n",
       " 49,\n",
       " 52,\n",
       " 31,\n",
       " 42,\n",
       " 37,\n",
       " 30,\n",
       " 23,\n",
       " 32,\n",
       " 40,\n",
       " 34,\n",
       " 25,\n",
       " 32,\n",
       " 38,\n",
       " 43,\n",
       " 40,\n",
       " 54,\n",
       " 35,\n",
       " 43,\n",
       " 59,\n",
       " 56,\n",
       " 19,\n",
       " 54,\n",
       " 39,\n",
       " 49,\n",
       " 23,\n",
       " 20,\n",
       " 45,\n",
       " 30,\n",
       " 22,\n",
       " 48,\n",
       " 21,\n",
       " 19,\n",
       " 31,\n",
       " 48,\n",
       " 31,\n",
       " 53,\n",
       " 24,\n",
       " 49,\n",
       " 25,\n",
       " 57,\n",
       " 53,\n",
       " 44,\n",
       " 41,\n",
       " 29,\n",
       " 25,\n",
       " 18,\n",
       " 47,\n",
       " 50,\n",
       " 47,\n",
       " 43,\n",
       " 46,\n",
       " 35,\n",
       " 41,\n",
       " 30,\n",
       " 30,\n",
       " 32,\n",
       " 48,\n",
       " 42,\n",
       " 29,\n",
       " 36,\n",
       " 28,\n",
       " 53,\n",
       " 49,\n",
       " 25,\n",
       " 19,\n",
       " 31,\n",
       " 29,\n",
       " 23,\n",
       " 79,\n",
       " 27,\n",
       " 40,\n",
       " 67,\n",
       " 18,\n",
       " 31,\n",
       " 18,\n",
       " 52,\n",
       " 46,\n",
       " 59,\n",
       " 44,\n",
       " 53,\n",
       " 49,\n",
       " 33,\n",
       " 30,\n",
       " 43,\n",
       " 57,\n",
       " 37,\n",
       " 28,\n",
       " 30,\n",
       " 34,\n",
       " 29,\n",
       " 48,\n",
       " 37,\n",
       " 48,\n",
       " 32,\n",
       " 76,\n",
       " 44,\n",
       " 47,\n",
       " 20,\n",
       " 29,\n",
       " 32,\n",
       " 17,\n",
       " 30,\n",
       " 31,\n",
       " 42,\n",
       " 24,\n",
       " 38,\n",
       " 56,\n",
       " 28,\n",
       " 36,\n",
       " 53,\n",
       " 56,\n",
       " 49,\n",
       " 55,\n",
       " 22,\n",
       " 21,\n",
       " 40,\n",
       " 30,\n",
       " 29,\n",
       " 19,\n",
       " 47,\n",
       " 20,\n",
       " 31,\n",
       " 35,\n",
       " 39,\n",
       " 28,\n",
       " 24,\n",
       " 38,\n",
       " 37,\n",
       " 46,\n",
       " 38,\n",
       " 43,\n",
       " 27,\n",
       " 20,\n",
       " 49,\n",
       " 61,\n",
       " 27,\n",
       " 19,\n",
       " 45,\n",
       " 70,\n",
       " 31,\n",
       " 22,\n",
       " 36,\n",
       " 64,\n",
       " 43,\n",
       " 47,\n",
       " 34,\n",
       " 33,\n",
       " 21,\n",
       " 52,\n",
       " 48,\n",
       " 23,\n",
       " 71,\n",
       " 29,\n",
       " 42,\n",
       " 68,\n",
       " 25,\n",
       " 44,\n",
       " 28,\n",
       " 45,\n",
       " 36,\n",
       " 39,\n",
       " 46,\n",
       " 18,\n",
       " 66,\n",
       " 27,\n",
       " 28,\n",
       " 51,\n",
       " 27,\n",
       " 28,\n",
       " 27,\n",
       " 21,\n",
       " 34,\n",
       " 18,\n",
       " 33,\n",
       " 44,\n",
       " 43,\n",
       " 30,\n",
       " 40,\n",
       " 37,\n",
       " 34,\n",
       " 41,\n",
       " 53,\n",
       " 31,\n",
       " 58,\n",
       " 38,\n",
       " 24,\n",
       " 41,\n",
       " 47,\n",
       " 41,\n",
       " 23,\n",
       " 36,\n",
       " 40,\n",
       " 35,\n",
       " 24,\n",
       " 26,\n",
       " 19,\n",
       " 51,\n",
       " 42,\n",
       " 37,\n",
       " 18,\n",
       " 36,\n",
       " 35,\n",
       " 58,\n",
       " 17,\n",
       " 44,\n",
       " 37,\n",
       " 35,\n",
       " 60,\n",
       " 54,\n",
       " 37,\n",
       " 50,\n",
       " 38,\n",
       " 45,\n",
       " 25,\n",
       " 31,\n",
       " 64,\n",
       " 90,\n",
       " 54,\n",
       " 53,\n",
       " 18,\n",
       " 60,\n",
       " 66,\n",
       " 75,\n",
       " 65,\n",
       " 35,\n",
       " 41,\n",
       " 25,\n",
       " 33,\n",
       " 28,\n",
       " 59,\n",
       " 40,\n",
       " 41,\n",
       " 38,\n",
       " 23,\n",
       " 40,\n",
       " 41,\n",
       " 24,\n",
       " 20,\n",
       " 38,\n",
       " 56,\n",
       " 58,\n",
       " 32,\n",
       " 40,\n",
       " 45,\n",
       " 41,\n",
       " 42,\n",
       " 59,\n",
       " 19,\n",
       " 58,\n",
       " 42,\n",
       " 20,\n",
       " 32,\n",
       " 45,\n",
       " 50,\n",
       " 36,\n",
       " 45,\n",
       " 17,\n",
       " 59,\n",
       " 26,\n",
       " 37,\n",
       " 19,\n",
       " 64,\n",
       " 33,\n",
       " 33,\n",
       " 61,\n",
       " 17,\n",
       " 50,\n",
       " 27,\n",
       " 30,\n",
       " 43,\n",
       " 44,\n",
       " 35,\n",
       " 25,\n",
       " 24,\n",
       " 22,\n",
       " 42,\n",
       " 34,\n",
       " 60,\n",
       " 21,\n",
       " 57,\n",
       " 41,\n",
       " 50,\n",
       " 25,\n",
       " 50,\n",
       " 36,\n",
       " 31,\n",
       " 29,\n",
       " 21,\n",
       " 27,\n",
       " 65,\n",
       " 37,\n",
       " 39,\n",
       " 24,\n",
       " 38,\n",
       " 48,\n",
       " 21,\n",
       " 31,\n",
       " 55,\n",
       " 24,\n",
       " 43,\n",
       " 26,\n",
       " 46,\n",
       " 35,\n",
       " 41,\n",
       " 26,\n",
       " 34,\n",
       " 19,\n",
       " 36,\n",
       " 22,\n",
       " 24,\n",
       " 77,\n",
       " 22,\n",
       " 29,\n",
       " 62,\n",
       " 39,\n",
       " 43,\n",
       " 35,\n",
       " 29,\n",
       " 76,\n",
       " 63,\n",
       " 23,\n",
       " 43,\n",
       " 58,\n",
       " 66,\n",
       " 41,\n",
       " 26,\n",
       " 47,\n",
       " 55,\n",
       " 53,\n",
       " 17,\n",
       " 30,\n",
       " 49,\n",
       " 19,\n",
       " 45,\n",
       " 26,\n",
       " 38,\n",
       " 36,\n",
       " 33,\n",
       " 22,\n",
       " 43,\n",
       " 67,\n",
       " 30,\n",
       " 56,\n",
       " 31,\n",
       " 33,\n",
       " 26,\n",
       " 33,\n",
       " 46,\n",
       " 59,\n",
       " 38,\n",
       " 65,\n",
       " 40,\n",
       " 42,\n",
       " 26,\n",
       " 36,\n",
       " 62,\n",
       " 43,\n",
       " 43,\n",
       " 22,\n",
       " 28,\n",
       " 56,\n",
       " 22,\n",
       " 57,\n",
       " 39,\n",
       " 26,\n",
       " 17,\n",
       " 40,\n",
       " 45,\n",
       " 44,\n",
       " 20,\n",
       " 33,\n",
       " 23,\n",
       " 46,\n",
       " 38,\n",
       " 54,\n",
       " 46,\n",
       " 25,\n",
       " 46,\n",
       " 36,\n",
       " 23,\n",
       " 29,\n",
       " 44,\n",
       " 19,\n",
       " 19,\n",
       " 35,\n",
       " 27,\n",
       " 46,\n",
       " 34,\n",
       " 34,\n",
       " 44,\n",
       " 45,\n",
       " 20,\n",
       " 25,\n",
       " 52,\n",
       " 20,\n",
       " 28,\n",
       " 50,\n",
       " 34,\n",
       " 28,\n",
       " 41,\n",
       " 28,\n",
       " 46,\n",
       " 28,\n",
       " 32,\n",
       " 41,\n",
       " 24,\n",
       " 33,\n",
       " 46,\n",
       " 31,\n",
       " 35,\n",
       " 52,\n",
       " 30,\n",
       " 34,\n",
       " 34,\n",
       " 20,\n",
       " 17,\n",
       " 32,\n",
       " 29,\n",
       " 33,\n",
       " 25,\n",
       " 36,\n",
       " 23,\n",
       " 63,\n",
       " 47,\n",
       " 80,\n",
       " 17,\n",
       " 40,\n",
       " 30,\n",
       " 27,\n",
       " 33,\n",
       " 34,\n",
       " 34,\n",
       " 23,\n",
       " 42,\n",
       " 29,\n",
       " 45,\n",
       " 24,\n",
       " 44,\n",
       " 27,\n",
       " 20,\n",
       " 44,\n",
       " 51,\n",
       " 20,\n",
       " 17,\n",
       " 19,\n",
       " 45,\n",
       " 60,\n",
       " 42,\n",
       " 44,\n",
       " 40,\n",
       " 30,\n",
       " 38,\n",
       " 23,\n",
       " 32,\n",
       " 44,\n",
       " 54,\n",
       " 32,\n",
       " 50,\n",
       " 24,\n",
       " 37,\n",
       " 52,\n",
       " 38,\n",
       " 49,\n",
       " 30,\n",
       " 60,\n",
       " 22,\n",
       " 35,\n",
       " 30,\n",
       " 67,\n",
       " 46,\n",
       " 17,\n",
       " 22,\n",
       " 27,\n",
       " 23,\n",
       " 33,\n",
       " 43,\n",
       " 28,\n",
       " 41,\n",
       " 52,\n",
       " 25,\n",
       " 63,\n",
       " 59,\n",
       " 45,\n",
       " 38,\n",
       " 40,\n",
       " 46,\n",
       " 35,\n",
       " 34,\n",
       " 33,\n",
       " 41,\n",
       " 20,\n",
       " 23,\n",
       " 26,\n",
       " 72,\n",
       " 23,\n",
       " 62,\n",
       " 52,\n",
       " 58,\n",
       " 25,\n",
       " 24,\n",
       " 19,\n",
       " 43,\n",
       " 47,\n",
       " 39,\n",
       " 49,\n",
       " 53,\n",
       " 32,\n",
       " 34,\n",
       " 28,\n",
       " 57,\n",
       " 25,\n",
       " 20,\n",
       " 21,\n",
       " 34,\n",
       " 38,\n",
       " 50,\n",
       " 24,\n",
       " 37,\n",
       " 44,\n",
       " 28,\n",
       " 42,\n",
       " 74,\n",
       " 38,\n",
       " 44,\n",
       " 44,\n",
       " 26,\n",
       " 36,\n",
       " 41,\n",
       " 67,\n",
       " 39,\n",
       " 57,\n",
       " 29,\n",
       " 31,\n",
       " 34,\n",
       " 44,\n",
       " 29,\n",
       " 30,\n",
       " 27,\n",
       " 27,\n",
       " 32,\n",
       " 58,\n",
       " 35,\n",
       " 21,\n",
       " 28,\n",
       " 46,\n",
       " 36,\n",
       " 72,\n",
       " 35,\n",
       " 33,\n",
       " 69,\n",
       " 35,\n",
       " 31,\n",
       " 34,\n",
       " 30,\n",
       " 28,\n",
       " 54,\n",
       " 47,\n",
       " 24,\n",
       " 52,\n",
       " 20,\n",
       " 43,\n",
       " 45,\n",
       " 29,\n",
       " 47,\n",
       " 24,\n",
       " 51,\n",
       " 17,\n",
       " 37,\n",
       " 27,\n",
       " 29,\n",
       " 18,\n",
       " 36,\n",
       " 58,\n",
       " 26,\n",
       " 65,\n",
       " 57,\n",
       " 59,\n",
       " 27,\n",
       " 31,\n",
       " 21,\n",
       " 29,\n",
       " 18,\n",
       " 52,\n",
       " 57,\n",
       " 42,\n",
       " 55,\n",
       " 60,\n",
       " 31,\n",
       " 23,\n",
       " 27,\n",
       " 23,\n",
       " 42,\n",
       " 25,\n",
       " 49,\n",
       " 32,\n",
       " 19,\n",
       " 60,\n",
       " 42,\n",
       " 35,\n",
       " 48,\n",
       " 51,\n",
       " 29,\n",
       " 36,\n",
       " 17,\n",
       " 52,\n",
       " 24,\n",
       " 24,\n",
       " 26,\n",
       " 27,\n",
       " 39,\n",
       " 30,\n",
       " 50,\n",
       " 52,\n",
       " 46,\n",
       " 23,\n",
       " 45,\n",
       " 65,\n",
       " 29,\n",
       " 47,\n",
       " 30,\n",
       " 34,\n",
       " 38,\n",
       " 33,\n",
       " 49,\n",
       " 47,\n",
       " 49,\n",
       " 43,\n",
       " 30,\n",
       " 58,\n",
       " 19,\n",
       " 21,\n",
       " 33,\n",
       " 47,\n",
       " 52,\n",
       " 26,\n",
       " 60,\n",
       " 21,\n",
       " 36,\n",
       " 31,\n",
       " 50,\n",
       " 31,\n",
       " 71,\n",
       " 58,\n",
       " 30,\n",
       " 20,\n",
       " 24,\n",
       " 35,\n",
       " 38,\n",
       " 27,\n",
       " 29,\n",
       " 70,\n",
       " 34,\n",
       " 44,\n",
       " 43,\n",
       " 44,\n",
       " 35,\n",
       " 27,\n",
       " 43,\n",
       " 20,\n",
       " 42,\n",
       " 27,\n",
       " 42,\n",
       " 20,\n",
       " 24,\n",
       " 48,\n",
       " 17,\n",
       " 17,\n",
       " 33,\n",
       " 50,\n",
       " 22,\n",
       " 17,\n",
       " 32,\n",
       " 31,\n",
       " 58,\n",
       " 29,\n",
       " 37,\n",
       " 34,\n",
       " 23,\n",
       " 18,\n",
       " 34,\n",
       " 66,\n",
       " 45,\n",
       " 41,\n",
       " 26,\n",
       " 54,\n",
       " 24,\n",
       " 42,\n",
       " 20,\n",
       " 23,\n",
       " 25,\n",
       " 35,\n",
       " 31,\n",
       " 30,\n",
       " 19,\n",
       " 36,\n",
       " 31,\n",
       " 21,\n",
       " 31,\n",
       " 46,\n",
       " 44,\n",
       " 40,\n",
       " 45,\n",
       " 60,\n",
       " 18,\n",
       " 28,\n",
       " 36,\n",
       " 36,\n",
       " 40,\n",
       " 36,\n",
       " 31,\n",
       " 33,\n",
       " 19,\n",
       " 22,\n",
       " 34,\n",
       " 33,\n",
       " 41,\n",
       " 29,\n",
       " 50,\n",
       " 42,\n",
       " 43,\n",
       " 44,\n",
       " 20,\n",
       " 31,\n",
       " 65,\n",
       " 23,\n",
       " 55,\n",
       " 26,\n",
       " 25,\n",
       " 45,\n",
       " 35,\n",
       " 36,\n",
       " 43,\n",
       " 56,\n",
       " 42,\n",
       " 19,\n",
       " 55,\n",
       " 42,\n",
       " 26,\n",
       " 17,\n",
       " 42,\n",
       " 55,\n",
       " 32,\n",
       " 29,\n",
       " 46,\n",
       " 29,\n",
       " 22,\n",
       " 58,\n",
       " 23,\n",
       " 39,\n",
       " 27,\n",
       " 54,\n",
       " 33,\n",
       " 46,\n",
       " 37,\n",
       " 36,\n",
       " 59,\n",
       " 34,\n",
       " 53,\n",
       " 51,\n",
       " 32,\n",
       " 31,\n",
       " 22,\n",
       " 47,\n",
       " 32,\n",
       " 26,\n",
       " 37,\n",
       " 31,\n",
       " 37,\n",
       " 55,\n",
       " 23,\n",
       " 36,\n",
       " 34,\n",
       " 43,\n",
       " 54,\n",
       " 43,\n",
       " 28,\n",
       " 40,\n",
       " 41,\n",
       " 40,\n",
       " 42,\n",
       " 61,\n",
       " 18,\n",
       " 59,\n",
       " 21,\n",
       " 48,\n",
       " 41,\n",
       " 18,\n",
       " 23,\n",
       " 60,\n",
       " 22,\n",
       " 61,\n",
       " 25,\n",
       " 46,\n",
       " 43,\n",
       " 43,\n",
       " 24,\n",
       " 68,\n",
       " 31,\n",
       " 17,\n",
       " 32,\n",
       " 50,\n",
       " 33,\n",
       " 64,\n",
       " 20,\n",
       " 30,\n",
       " 22,\n",
       " 43,\n",
       " 22,\n",
       " 17,\n",
       " 47,\n",
       " 41,\n",
       " 56,\n",
       " 64,\n",
       " 47,\n",
       " 48,\n",
       " 31,\n",
       " 29,\n",
       " 30,\n",
       " 32,\n",
       " 57,\n",
       " 62,\n",
       " 39,\n",
       " 43,\n",
       " 24,\n",
       " 42,\n",
       " 53,\n",
       " 26,\n",
       " 73,\n",
       " 72,\n",
       " 55,\n",
       " 25,\n",
       " 41,\n",
       " 24,\n",
       " 63,\n",
       " 17,\n",
       " 35,\n",
       " 51,\n",
       " 62,\n",
       " 55,\n",
       " 43,\n",
       " 40,\n",
       " 37,\n",
       " 39,\n",
       " 31,\n",
       " 61,\n",
       " 26,\n",
       " 46,\n",
       " 26,\n",
       " 48,\n",
       " 34,\n",
       " 34,\n",
       " 59,\n",
       " 34,\n",
       " 49,\n",
       " 18,\n",
       " 43,\n",
       " 48,\n",
       " 28,\n",
       " 33,\n",
       " 24,\n",
       " 21,\n",
       " 17,\n",
       " 39,\n",
       " 29,\n",
       " 44,\n",
       " 24,\n",
       " 71,\n",
       " 51,\n",
       " 55,\n",
       " 41,\n",
       " 23,\n",
       " 38,\n",
       " 39,\n",
       " 19,\n",
       " 49,\n",
       " 32,\n",
       " 27,\n",
       " 38,\n",
       " 33,\n",
       " 63,\n",
       " 23,\n",
       " 33,\n",
       " 54,\n",
       " 29,\n",
       " 48,\n",
       " 35,\n",
       " 28,\n",
       " 37,\n",
       " 42,\n",
       " 40,\n",
       " 47,\n",
       " 22,\n",
       " 30,\n",
       " 28,\n",
       " 63,\n",
       " 51,\n",
       " 22,\n",
       " 27,\n",
       " 35,\n",
       " 46,\n",
       " 37,\n",
       " 24,\n",
       " 37,\n",
       " 53,\n",
       " 27,\n",
       " 38,\n",
       " 53,\n",
       " 34,\n",
       " 23,\n",
       " 39,\n",
       " 43,\n",
       " 67,\n",
       " 81,\n",
       " 21,\n",
       " 23,\n",
       " 25,\n",
       " 42,\n",
       " 38,\n",
       " 64,\n",
       " 32,\n",
       " 37,\n",
       " 51,\n",
       " 22,\n",
       " 33,\n",
       " 42,\n",
       " 19,\n",
       " 51,\n",
       " 23,\n",
       " 37,\n",
       " 37,\n",
       " 47,\n",
       " 41,\n",
       " 33,\n",
       " 31,\n",
       " 31,\n",
       " 35,\n",
       " 38,\n",
       " 18,\n",
       " 20,\n",
       " 54,\n",
       " 40,\n",
       " 36,\n",
       " 43,\n",
       " 44,\n",
       " 44,\n",
       " 43,\n",
       " 51,\n",
       " 18,\n",
       " 51,\n",
       " 41,\n",
       " 44,\n",
       " 33,\n",
       " 33,\n",
       " 42,\n",
       " 25,\n",
       " 32,\n",
       " 32,\n",
       " 36,\n",
       " 28,\n",
       " 20,\n",
       " 35,\n",
       " 55,\n",
       " 48,\n",
       " 36,\n",
       " 34,\n",
       " 28,\n",
       " 67,\n",
       " 37,\n",
       " 44,\n",
       " 25,\n",
       " 21,\n",
       " 40,\n",
       " 78,\n",
       " 34,\n",
       " 49,\n",
       " 22,\n",
       " 23,\n",
       " 60,\n",
       " 45,\n",
       " 63,\n",
       " 41,\n",
       " 47,\n",
       " 44,\n",
       " 51,\n",
       " 46,\n",
       " 41,\n",
       " 50,\n",
       " 47,\n",
       " 35,\n",
       " 56,\n",
       " 45,\n",
       " 48,\n",
       " 40,\n",
       " 39,\n",
       " ...]"
      ]
     },
     "execution_count": 9,
     "metadata": {},
     "output_type": "execute_result"
    }
   ],
   "source": [
    "# export a list containing ages of people in 1994 Census\n",
    "ages = data[\"age\"].tolist()\n",
    "ages\n",
    "# type(ages)   list"
   ]
  },
  {
   "cell_type": "code",
   "execution_count": 56,
   "metadata": {
    "nbpresent": {
     "id": "b79fa570-8c08-4820-a035-2a00bfae1a9b"
    }
   },
   "outputs": [
    {
     "name": "stdout",
     "output_type": "stream",
     "text": [
      "32561\n",
      "17\n",
      "90\n",
      "38.58164675532078\n",
      "37.0\n"
     ]
    }
   ],
   "source": [
    "print(len(ages))\n",
    "print(np.min(ages))\n",
    "print(np.max(ages))\n",
    "print(np.mean(ages))\n",
    "print(np.median(ages))"
   ]
  },
  {
   "cell_type": "code",
   "execution_count": 14,
   "metadata": {
    "nbpresent": {
     "id": "b79fa570-8c08-4820-a035-2a00bfae1a9b"
    }
   },
   "outputs": [
    {
     "name": "stdout",
     "output_type": "stream",
     "text": [
      "32561\n",
      "17\n",
      "90\n",
      "38.58164675532078\n",
      "37.0\n"
     ]
    }
   ],
   "source": [
    "print(len(data[\"age\"]))\n",
    "print(np.min(data[\"age\"]))\n",
    "print(np.max(data[\"age\"]))\n",
    "print(np.mean(data[\"age\"]))\n",
    "print(np.median(data[\"age\"]))"
   ]
  },
  {
   "cell_type": "markdown",
   "metadata": {
    "nbpresent": {
     "id": "e6a51e7a-d63e-4187-8899-bfbf03f8a4b6"
    },
    "slideshow": {
     "slide_type": "slide"
    }
   },
   "source": [
    "# Quantiles \n",
    "Quantiles describe what percentage of the observations in a sample have smaller value\n"
   ]
  },
  {
   "cell_type": "code",
   "execution_count": 57,
   "metadata": {
    "nbpresent": {
     "id": "a912604c-786a-448e-a908-397f28b46a13"
    },
    "slideshow": {
     "slide_type": "-"
    }
   },
   "outputs": [
    {
     "data": {
      "text/plain": [
       "(28.0, 48.0)"
      ]
     },
     "execution_count": 57,
     "metadata": {},
     "output_type": "execute_result"
    }
   ],
   "source": [
    "np.percentile(ages,25), np.percentile(ages,75)"
   ]
  },
  {
   "cell_type": "markdown",
   "metadata": {
    "slideshow": {
     "slide_type": "-"
    }
   },
   "source": [
    "For this data, 25% of the people are under 28 years old\n",
    "\n",
    "The middle 50% of the data (the data between the 25% and 75% quantiles) is between 28 and 48 years old \n",
    "\n",
    "**Question**: how do I read off quantiles from a histogram? "
   ]
  },
  {
   "cell_type": "markdown",
   "metadata": {
    "slideshow": {
     "slide_type": "slide"
    }
   },
   "source": [
    "# Variance and Standard Deviation\n",
    "\n",
    "Variance and standard deviation quantify the amount of variation or dispersion of a set of data values.\n",
    "\n",
    "Mean, $\\mu = \\frac{1}{n} \\sum_{i = 1}^n x_i$ <br>\n",
    "Variance $= \\sigma^2   = \\frac{1}{n} \\sum_{i = 1}^n (x_i - \\mu)^2$ <br>\n",
    "Std. dev. $= \\sigma$\n",
    "\n",
    "The variance can also be computed by the \"mean of x-squared\" - $\\mu^2$</br>\n",
    "\t方差常用于损失函数（比如 MSE：Mean Squared Error），对偏离惩罚更大（平方放大了异常值的影响）便于数学推导</br>\n",
    "    \t平均工资 = 8300 元</br>\n",
    "\t•\t如果 标准差 = 200 元：说明大家的工资大多在 8300 ± 200（即 8100～8500）元之间</br>\n",
    "\t•\t如果 方差 = 40,000 元²：虽然正确，但人不容易理解“工资的平方差是4万”到底代表啥</br>\n",
    "\n"
   ]
  },
  {
   "cell_type": "code",
   "execution_count": 58,
   "metadata": {
    "slideshow": {
     "slide_type": "-"
    }
   },
   "outputs": [
    {
     "name": "stdout",
     "output_type": "stream",
     "text": [
      "186.05568600783081\n",
      "13.640223092304275\n",
      "186.05568600783081\n"
     ]
    }
   ],
   "source": [
    "print(np.var(ages))\n",
    "print(np.std(ages))\n",
    "print(np.std(ages)**2)"
   ]
  },
  {
   "cell_type": "markdown",
   "metadata": {
    "slideshow": {
     "slide_type": "-"
    }
   },
   "source": [
    "In terms of the histogram,...\n",
    "<img src=\"SmallLargeStandDev.png\" width=\"50%\"  alt=\"https://en.wikipedia.org/wiki/Correlation_and_dependence#/media/File:Correlation_examples2.svg\">\n",
    "\n"
   ]
  },
  {
   "cell_type": "markdown",
   "metadata": {
    "slideshow": {
     "slide_type": "slide"
    }
   },
   "source": [
    "## Covariance and Correlation\n",
    "Covariance and correlation measure of how much two variables change together.\n",
    "\n",
    "$cov(x,y) = \\frac{1}{n} \\sum_{i=1}^n (x_i - \\mu_x)(y_i - \\mu_y)$ \n",
    "\n",
    "$\\mu_x$ is mean of $x_1,x_2,\\ldots,x_n$ <br>\n",
    "$\\mu_y$ is mean of $y_1,y_2,\\ldots,y_n$\n",
    "\n",
    "$corr(x,y) = \\frac{cov(X,Y)}{\\sigma_x \\sigma_y}$\n",
    "\n",
    "$\\sigma_x$ is std. dev. of $x_1,x_2,\\ldots,x_n$ <br>\n",
    "$\\sigma_y$ is std. dev. of $y_1,y_2,\\ldots,y_n$\n",
    "\n",
    "Correlations for various pairs of variables:\n",
    "<img src=\"Correlation_examples2.svg\" width=\"90%\"  alt=\"https://en.wikipedia.org/wiki/Correlation_and_dependence#/media/File:Correlation_examples2.svg\">\n",
    "\n",
    " <br>\n",
    "协方差衡量的是 两个变量如何一起变化： <br>\n",
    "\t•\t如果 x 增大时 y 也增大，→ 协方差为正 <br>\n",
    "\t•\t如果 x 增大时 y 反而减小，→ 协方差为负 <br>\n",
    "\t•\t如果 x 和 y 没有线性关系，→ 协方差接近 0 <br>\n",
    "相关系数是 标准化后的协方差，范围在 [-1, 1] 之间： <br>\n",
    "\t•\t+1 表示完全正相关 <br>\n",
    "\t•\t0 表示无线性关系 <br>\n",
    "\t•\t-1 表示完全负相关 <br>\n",
    "\n",
    "协方差：告诉你两个变量是一起升、一起降，还是反方向走； <br>\n",
    "相关系数：告诉你这种关系有多强，而且是标准化后的结果，便于比较。 <br>\n",
    "\n",
    "\n",
    "\n"
   ]
  },
  {
   "cell_type": "markdown",
   "metadata": {
    "slideshow": {
     "slide_type": "slide"
    }
   },
   "source": [
    "## Correlation vs Causation\n",
    "\n",
    "<img src=\"correlation.png\" width=\"100%\"  alt=\"https://xkcd.com/552/\">\n",
    "</br>\n",
    "Correlation（相关）不代表 Causation（因果）。</br>\n",
    "什么是 Correlation（相关性）？定义： 两个变量一起变化的趋势。</br>\n",
    "比如：</br>\n",
    "\t•\t气温升高时，冰淇淋销量上升 👉 正相关。</br>\n",
    "\t•\t身高增加时，体重可能增加 👉 正相关。</br>\n",
    "相关只是说明 变量之间有某种线性（或非线性）关系，但并不表示一个导致了另一个。</br>\n",
    "什么是 Causation（因果关系）？定义： 一个变量的变化 直接引起 另一个变量的变化。</br>\n",
    "比如：</br>\n",
    "\t•\t抽烟 → 肺癌：抽烟是肺癌的已知诱因。</br>\n",
    "\t•\t服用退烧药 → 体温下降：退烧药“引起”体温下降。</br>\n",
    "\n",
    "\n",
    "\n"
   ]
  },
  {
   "cell_type": "markdown",
   "metadata": {
    "slideshow": {
     "slide_type": "slide"
    }
   },
   "source": [
    "## Spurious Correlations I (www.tylervigen.com)\n",
    "\n",
    "<img src=\"Conf1.png\" width=\"100%\"  alt=\"www.tylervigen.com\">\n",
    "\n"
   ]
  },
  {
   "cell_type": "markdown",
   "metadata": {
    "slideshow": {
     "slide_type": "slide"
    }
   },
   "source": [
    "## Spurious Correlations II (www.tylervigen.com)\n",
    "\n",
    "<img src=\"Conf2.png\" width=\"100%\" alt=\"www.tylervigen.com\">\n"
   ]
  },
  {
   "cell_type": "markdown",
   "metadata": {
    "slideshow": {
     "slide_type": "slide"
    }
   },
   "source": [
    "## Confounding: example\n",
    "\n",
    "Suppose we are given city statistics covering a four-month summer period, and observe that swimming pool deaths tend to increase on days when more ice cream is sold. \n",
    "\n",
    "Should we conclude that ice cream is the killer? "
   ]
  },
  {
   "cell_type": "markdown",
   "metadata": {
    "slideshow": {
     "slide_type": "slide"
    }
   },
   "source": [
    "## Confounding: example cont.\n",
    "\n",
    "No! \n",
    "\n",
    "As astute analysts, we identify average daily temperature as a confounding variable: on hotter days, people are more likely to both buy ice cream and visit swimming pools. \n",
    "\n",
    "Regression methods can be used to statistically control for this confounding variable, eliminating the direct relationship between ice cream sales and swimming pool deaths.\n",
    "\n",
    "<br> <br> <br> <br> \n",
    "source: doi:10.1371/journal.pone.0152719  <br> \n",
    "“相关”不等于“因果”，很多时候是因为有隐藏的第三变量（混杂变量）在影响结果。<br> \n",
    "使用回归模型，可以控制这些变量，找到真正的因果关系。<br> \n",
    "多元线性回归可以帮我们统计上控制住气温这个变量，这样我们就可以看清楚： <br> \n",
    "\n",
    "“在气温不变的情况下，冰淇淋销量对溺水人数有没有影响？” <br> \n",
    "\n",
    "举个模型例子： <br> \n",
    "\n",
    "\\text{溺水人数} = \\beta_0 + \\beta_1 \\cdot \\text{冰淇淋销量} + \\beta_2 \\cdot \\text{气温} + \\varepsilon <br> \n",
    "\n",
    "解释： <br> \n",
    "\t•\t如果加入气温后，冰淇淋的系数（β₁）变得不显著： <br> \n",
    "\t•\t✅ 表示：冰淇淋本身并不导致溺水 <br> \n",
    "\t•\t如果气温的系数（β₂）显著： <br> \n",
    "\t•\t✅ 表示：气温才是影响溺水人数的关键因素\n"
   ]
  },
  {
   "cell_type": "markdown",
   "metadata": {
    "slideshow": {
     "slide_type": "slide"
    }
   },
   "source": [
    "## Descriptive vs. Inferential Statistics \n",
    "\n",
    "Descriptive statistics quantitatively describe or summarize features of a dataset. \n",
    "\n",
    "Inferential statistics attempts to learn about the population from which the data was sampled. \n",
    "\n",
    "**Example**: The week before a US presidential election, it is not possible to ask every voting person who they intend to vote for. Instead, a relatively small number of individuals are surveyed. The *hope* is that we can determine the population's preferred candidate from the surveyed results. \n",
    "\n",
    "Often, we will model the population as a *probability distribution*. \n",
    "\n",
    "*Inferential statistics* is deducing properties of an underlying probability distribution from sampled data. \n",
    "推论统计的目标是：从一小部分样本，推测出整个总体的情况。我们通常会用概率分布（比如正态分布、伯努利分布等）来建模“总体”的特征(需要用概率模型)。然后我们从“样本数据”出发，去推断这个分布的参数</br>\n",
    "描述统计是用来总结和呈现数据的。它只是告诉你“现在这些数据长啥样”，不去推测更多。\n"
   ]
  },
  {
   "cell_type": "markdown",
   "metadata": {
    "slideshow": {
     "slide_type": "slide"
    }
   },
   "source": [
    "## Random Variables\n",
    "随机变量（Random Variable） 指的是在一个随机事件中，它的取值是可能结果之一。</br>\n",
    "概率分布告诉你：每个可能结果出现的概率是多少。</br>\n",
    "\n",
    "A Random variable is a variable whose value is one of the possible outcomes of a random event.  For example, a random variable representing a die roll has possible values 1-6.  A random variable has an associated \"probability distribution\" which describes the probability of the variable taking on a particular value.  For the die, the probability distribution is basically: `[1 : 1/6, 2: 1/6, 3: 1/6, ... ]` meaning each outcome is equally likely. \n",
    "</br>\n",
    " 离散（Discrete） </br>\n",
    "\t 只能取有限或可数个值 掷骰子（只能是1~6） </br>\n",
    "\n",
    " 连续（Continuous） </br>\n",
    "\t 可以取无限多个值，通常是一个区间内的实数值 指针转盘的角度（0°~360°之间任意角度）</br>\n",
    "\n",
    "\n",
    "\n",
    "Random variables can be either discrete or continuous.  A die is an example of a discrete random variable.  A continuous random variable could represent the angle of a spinner on a board game (assuming we care about the angle it lands on rather than whether it lands on \"right foot green\" or \"left hand blue\").  Discrete random variables are a bit more intuitive to think about since we can enumerate all the possibiliities, but the math for analyzing them can be a bit more cumbersome.  Continuous RVs are a little bit weird to think about, but we can manipulate them quite nicely with fun, basic calculus!  </br>\n",
    "连续变量的可能值是无限多个实数（比如 30.0000001, 30.0000000001…），你几乎不可能精确命中某一个值，所以其概率为 0。</br>\n",
    "正确的方式是考虑一个区间，比如：</br>\n",
    "“落在 30° 到 45° 之间的概率是多少？”</br>\n",
    "这个区间的概率是可以计算出的，比如 P(30° <= X <= 45°) = 0.25。</br>\n",
    "As an example, what's the probability that my random variable for the spinner give me a 30 degree angle?  0!  The probability of any single continuous value is 0, because there are an infinite number of possibilities (when we deal with floating point math, things aren't exactly 0, but are incredibly small!).  For continuous RVs, we have to think about the probablitiy of our value falling within a range (between 30 and 45 degrees) to get something finite.\n",
    "\n",
    "What do we do with a random variable?  We might take samples (roll the die a few times and collect the resulting values), or we might use the associated probabilitiy distribution to perform some analysis/computation."
   ]
  },
  {
   "cell_type": "markdown",
   "metadata": {
    "slideshow": {
     "slide_type": "slide"
    }
   },
   "source": [
    "## Bernoulli Distribution\n",
    "\n",
    "The Bernoulli distribution, named after Jacob Bernoulli, is the probability distribution of a random variable which takes the value 1 (success) with probability $p$ and the value 0 (failure) with probability $q=1-p$. \n",
    "\n",
    "The Bernoulli distribution with $p=0.5$ (implying $q=0.5$) describes a 'fair' coin toss where 1 and 0  represent \"heads\" and \"tails\", respectively. If the coin is unfair, then we would have that $p\\neq 0.5$.\n",
    "\n",
    "We can use python to sample from the Bernoulli probability distribution.</br>\n",
    "Bernoulli 分布只能用于离散型随机变量(离散的分类变量（categorical variable）)， Bernoulli 分布定义的是一个随机变量只有两个可能的取值：</br>\n",
    "\t•\t1：代表“成功”事件，概率为 p</br>\n",
    "\t•\t0：代表“失败”事件，概率为 1 - p</br>"
   ]
  },
  {
   "cell_type": "code",
   "execution_count": 8,
   "metadata": {
    "slideshow": {
     "slide_type": "slide"
    }
   },
   "outputs": [],
   "source": [
    "import scipy as sc\n",
    "from scipy.stats import bernoulli\n",
    "from scipy.stats import binom\n",
    "from scipy.stats import norm"
   ]
  },
  {
   "cell_type": "code",
   "execution_count": 9,
   "metadata": {
    "slideshow": {
     "slide_type": "-"
    }
   },
   "outputs": [
    {
     "name": "stdout",
     "output_type": "stream",
     "text": [
      "[1 1 0 0 1 1 1 1 1 1 0 1 0 0 0 1 1 0 0 1 0 0 1 1 1 0 0 1 0 1 0 0 1 1 1 0 1\n",
      " 0 0 0 1 0 0 1 0 0 1 1 0 1 1 0 0 0 1 0 0 1 0 0 0 1 0 1 0 1 1 0 1 0 1 0 1 1\n",
      " 1 0 1 1 1 1 0 0 1 0 0 1 0 1 0 1 0 1 0 1 0 1 0 0 1 1 1 0 1 1 1 1 1 0 1 0 1\n",
      " 0 1 1 1 0 0 0 1 1 1 0 0 1 0 1 1 1 0 1 0 1 0 0 1 1 1 1 0 1 1 0 0 1 0 0 1 0\n",
      " 0 1 1 1 1 1 0 0 1 0 0 0 1 0 0 1 1 1 1 1 1 1 1 0 0 0 1 0 0 1 0 1 0 0 1 0 1\n",
      " 1 1 1 1 0 1 0 1 1 0 0 1 1 0 0 0 0 0 0 1 1 0 1 1 1 1 0 1 1 0 0 1 1 1 1 1 1\n",
      " 0 0 1 0 0 0 1 1 0 0 1 0 1 0 1 0 0 1 1 0 1 0 1 1 0 0 1 0 1 0 0 1 0 0 1 1 1\n",
      " 1 0 0 0 0 0 0 0 1 0 1 1 1 1 0 0 1 1 0 0 0 0 0 0 1 0 1 0 1 0 0 1 1 1 1 1 0\n",
      " 0 1 1 0 1 0 1 0 0 0 1 0 1 1 1 1 1 0 1 1 0 0 1 0 0 0 1 1 0 0 1 0 0 1 1 1 1\n",
      " 0 1 0 0 0 1 0 1 1 0 0 1 0 0 0 0 0 1 0 0 1 1 1 0 0 0 1 0 0 0 1 1 1 1 1 0 0\n",
      " 1 0 1 0 1 0 0 1 1 0 1 1 0 0 1 1 0 0 1 1 0 0 0 1 1 1 1 1 1 1 1 0 1 1 0 1 0\n",
      " 0 0 0 1 0 1 1 1 0 1 0 0 0 0 0 0 0 0 1 0 0 1 0 0 0 0 1 0 1 1 0 0 1 1 0 1 0\n",
      " 0 1 1 1 1 0 1 0 0 0 0 0 0 1 1 1 0 1 1 1 1 0 0 1 0 1 1 1 1 1 0 1 1 0 1 0 0\n",
      " 0 0 0 0 1 1 1 0 0 1 0 1 0 0 1 1 1 0 1 1 1 0 1 1 1 1 1 0 0 0 1 0 0 1 0 1 1\n",
      " 0 1 1 0 1 1 0 1 1 1 0 1 0 1 0 0 1 1 0 1 0 0 1 0 0 1 1 0 0 1 0 0 1 0 0 0 0\n",
      " 1 0 0 1 1 0 1 0 0 1 1 0 0 0 0 1 1 0 1 1 1 1 1 0 1 0 1 1 0 1 1 1 1 1 0 0 0\n",
      " 1 1 1 1 1 0 1 0 1 1 1 1 1 1 0 0 0 1 0 1 0 0 0 0 0 0 1 1 1 1 1 0 1 0 1 0 0\n",
      " 1 0 1 0 1 0 0 0 1 0 1 0 1 0 1 0 0 1 0 1 0 0 1 0 1 1 1 0 0 0 1 1 1 0 1 0 0\n",
      " 0 1 1 0 0 1 1 0 0 0 0 0 1 1 0 0 1 0 1 1 0 1 1 1 1 0 1 1 1 1 0 1 1 1 0 0 1\n",
      " 1 0 1 0 1 0 0 1 1 0 0 1 1 0 0 0 1 0 0 1 1 1 0 0 1 1 1 0 0 1 0 1 1 1 0 1 1\n",
      " 1 1 0 1 0 1 0 1 1 0 1 1 1 1 0 1 1 1 1 1 1 1 0 0 1 0 0 1 0 1 0 1 0 0 0 1 0\n",
      " 1 1 1 1 0 1 1 1 0 1 1 0 1 0 1 0 0 0 1 1 0 0 0 0 0 1 1 1 0 0 0 1 0 1 0 1 0\n",
      " 1 1 0 1 1 0 0 1 0 0 1 1 0 1 0 0 1 0 0 1 0 1 0 1 0 1 0 0 0 1 0 1 1 1 1 1 1\n",
      " 1 0 0 1 1 0 1 0 1 1 1 0 1 0 0 0 1 0 0 0 0 0 0 0 0 0 0 0 0 1 1 1 1 1 1 0 0\n",
      " 0 0 0 1 1 0 0 0 0 0 1 1 0 0 1 0 1 1 1 0 0 0 1 1 1 1 1 1 0 0 0 0 0 1 1 1 1\n",
      " 0 1 0 1 0 1 1 1 0 0 0 1 1 0 1 1 0 1 0 1 0 1 1 0 0 0 0 1 1 1 1 0 0 0 1 1 1\n",
      " 1 0 1 0 1 1 0 0 1 1 1 1 0 1 0 0 0 0 0 1 0 1 1 1 0 0 0 1 1 1 1 0 1 1 0 0 0\n",
      " 1]\n"
     ]
    }
   ],
   "source": [
    "n = 1000;\n",
    "coin_flips = bernoulli.rvs(p=0.5, size=n)\n",
    "#rvs 是 random variates 的缩写，意思是 从指定的概率分布中“随机采样”出一组数据。它的作用是生成一组模拟的随机结果（samples），对应这个概率分布。\n",
    "print(coin_flips)"
   ]
  },
  {
   "cell_type": "markdown",
   "metadata": {
    "slideshow": {
     "slide_type": "-"
    }
   },
   "source": [
    "How many heads did we get? We just count the number of 1's. "
   ]
  },
  {
   "cell_type": "code",
   "execution_count": 61,
   "metadata": {
    "slideshow": {
     "slide_type": "-"
    }
   },
   "outputs": [
    {
     "name": "stdout",
     "output_type": "stream",
     "text": [
      "492\n",
      "0.492\n"
     ]
    }
   ],
   "source": [
    "print(sum(coin_flips))\n",
    "print(sum(coin_flips)/n)"
   ]
  },
  {
   "cell_type": "markdown",
   "metadata": {
    "slideshow": {
     "slide_type": "-"
    }
   },
   "source": [
    "What if we flip the coin more times? "
   ]
  },
  {
   "cell_type": "code",
   "execution_count": 62,
   "metadata": {
    "slideshow": {
     "slide_type": "-"
    }
   },
   "outputs": [
    {
     "name": "stdout",
     "output_type": "stream",
     "text": [
      "0.500025\n"
     ]
    }
   ],
   "source": [
    "n = 1000000\n",
    "coin_flips = bernoulli.rvs(p=0.5, size=n)\n",
    "print(sum(coin_flips)/n)"
   ]
  },
  {
   "cell_type": "code",
   "execution_count": 66,
   "metadata": {},
   "outputs": [
    {
     "data": {
      "text/plain": [
       "[<matplotlib.lines.Line2D at 0x156e43f50>]"
      ]
     },
     "execution_count": 66,
     "metadata": {},
     "output_type": "execute_result"
    },
    {
     "data": {
      "image/png": "[encoded data removed]",
      "text/plain": [
       "<Figure size 1000x600 with 1 Axes>"
      ]
     },
     "metadata": {},
     "output_type": "display_data"
    }
   ],
   "source": [
    "#ps 是一个包含 从 0 到 1 的 100 个概率值\n",
    "ps = np.linspace(0, 1, 100)\n",
    "#对每一个概率 $p$，计算它的方差：$p(1 - p)$这样你就得到了一组“不同概率时的方差值”。\n",
    "vars = ps*(1 - ps)\n",
    "#把横轴设为概率 $p$，纵轴设为方差 $p(1-p)$，画出来。\n",
    "plt.plot(ps, vars)\n",
    "#如果硬币是双面正（永远正面），你每天扔都是一样的，没变化，没意思，方差 = 0\n",
    "# 如果硬币是公平的，有一半可能正面一半反面，每天结果可能不同，变化大，方差 = 最大\n"
   ]
  },
  {
   "cell_type": "markdown",
   "metadata": {
    "slideshow": {
     "slide_type": "-"
    }
   },
   "source": [
    "Some facts about Bernoulli variables: \n",
    "* mean is p\n",
    "* variance is p(1-p)</br>\n",
    "在伯努利分布中，方差是这样算的：</br>\n",
    "\n",
    "方差 = p * (1 - p)</br>\n",
    "\n",
    "它表示：这个事件越不确定，方差越大。</br>\n",
    "\n",
    "比如：</br>\n",
    "\t•\t如果你投一个“不公平”的硬币，总是正面（$p = 1$），那就毫无波动，方差 = 0。</br>\n",
    "\t•\t如果是“公平”硬币（$p = 0.5$），最不确定（有一半可能正面、一半可能反面），波动最大，方差 = 0.25。"
   ]
  },
  {
   "cell_type": "markdown",
   "metadata": {
    "slideshow": {
     "slide_type": "slide"
    }
   },
   "source": [
    "## Binomial distribution二项分布\n",
    "\n",
    "二项分布是指进行 n 次独立的伯努利试验（Bernoulli Trials）后，成功的次数的概率分布。\n",
    "eg.重复 1,000,000 次 “投掷一个公平硬币 10 次，并统计出现正面的次数”。这些结果的概率组合就是一个 Binomial(n=10, p=0.5) 分布。\n",
    "\n",
    "\n",
    "The binomial distribution, with parameters $n$ and $p$, is a **discrete** probability distribution ``summarizing'' the outcome of $n$ Bernoulli random variables. For simplicity, take $p=0.5$ so that the Bernoulli distribution describes the outcome of a coin. For each flip, the probability of heads is $p$ (so the probability of tails is $q=1-p$). But we don't keep track of the individual flips. We only keep track of how many heads/tails there were in total. So, the binomial distribution can be thought of as summarizing a bunch of (independent) Bernoulli random variables. \n",
    "\n",
    "The following code is equivalent to flipping a fair (p=0.5) coin n=10 times and counting the number of heads and then repeating this process 1,000,000 times. "
   ]
  },
  {
   "cell_type": "code",
   "execution_count": 67,
   "metadata": {
    "scrolled": true
   },
   "outputs": [
    {
     "name": "stdout",
     "output_type": "stream",
     "text": [
      "[43 54 47 52 43 54 46 53 44 50 55 50 45 57 39 55 55 44 55 53 51 49 49 44\n",
      " 48 42 47 45 54 48 50 54 58 49 44 47 40 55 54 50 52 43 52 50 52 47 62 52\n",
      " 41 46 52 57 49 55 54 45 51 49 58 51 45 52 55 50 52 55 52 45 55 42 53 50\n",
      " 56 48 45 43 54 47 55 51 37 42 52 52 52 54 54 53 48 55 49 54 50 49 47 60\n",
      " 55 52 45 51]\n"
     ]
    }
   ],
   "source": [
    "p = 0.5\n",
    "n = 100\n",
    "bin_vars = binom.rvs(n=n,p=p,size=1000000)\n",
    "print(bin_vars[:100])"
   ]
  },
  {
   "cell_type": "code",
   "execution_count": 68,
   "metadata": {
    "scrolled": true
   },
   "outputs": [
    {
     "data": {
      "image/png": "[encoded data removed]",
      "text/plain": [
       "<Figure size 1000x600 with 1 Axes>"
      ]
     },
     "metadata": {},
     "output_type": "display_data"
    }
   ],
   "source": [
    "#bins=np.arange(12)-.5\n",
    "plt.hist(bin_vars, bins = 100,density=True) #density argument makes the y axis probability, not total count\n",
    "plt.title(\"A histogram of binomial random variables\")\n",
    "plt.xlim([-0.5,n + .5])\n",
    "plt.show()"
   ]
  },
  {
   "cell_type": "markdown",
   "metadata": {
    "slideshow": {
     "slide_type": "-"
    }
   },
   "source": [
    "Some facts about the binomial distribution: \n",
    "* The mean is $np$\n",
    "* The variance is $np(1-p)$</br>\n",
    "Binomial 的意思是你做了 n 次 Bernoulli 实验，每次成功的概率是 p。</br>\n",
    "你可以把成功总次数 X 拆成：X = X1 + X2 +。。。 + Xn</br>\n",
    "期望的线性性：</br>\n",
    "每个 Xi 是一个 Bernoulli(p) 分布的随机变量：每个 x属于{0, 1}</br>\n",
    "所以它的期望是：E[Xi] = 1 * p + 0 * (1 - p) = p</br>\n",
    "于是总期望为：E[Xi] = np</br>\n",
    "\n",
    "只有独立的随机变量，方差才能直接相加：</br>\n",
    "因为每个 Xi 都是 Bernoulli(p)：</br>\n",
    "Var(Xi) = p(1 - p)</br>\n",
    "总共有 n 项：</br>\n",
    "Var(X) = n * p(1 - p)\n",
    "\n",
    "\n"
   ]
  },
  {
   "cell_type": "markdown",
   "metadata": {
    "slideshow": {
     "slide_type": "slide"
    }
   },
   "source": [
    "## Discrete random variables and probability mass functions \n",
    "\n",
    "The Binomial and Bernoulli random variables are examples of *discrete random variables* since they can take only discrete values. A Bernoulli random variable can take values $0$ or $1$. A binomial random variable  can only take values \n",
    "$$\n",
    "0,1,\\ldots, n. \n",
    "$$\n",
    "One can compute the probability that the variable takes each value. This is called the *probability mass function*. \n",
    "For a Bernoulli random variable, the probability mass function is given by \n",
    "$$\n",
    "f(k) = \\begin{cases} p & k=1 \\\\ 1-p & k = 0 \\end{cases}\n",
    "$$\n",
    "For a binomial random variable, the probability mass function is given by \n",
    "$$\n",
    "f(k) = \\binom{n}{k} p^k (1-p)^{n-k}.\n",
    "$$\n",
    "Binomial 分布是n次独立的 Bernoulli 试验\n",
    "这里的随机变量 k 表示成功（1）的总次数,可能是 0 次、3 次、10 次……。</br>\n",
    "Here, $\\binom{n}{k} = \\frac{n!}{k!(n-k)!}$ is the number of ways to arrange the\n",
    "$k$ heads among the $n$ flips. For a fair coin, we have $p=0.5$ and $f(k) = \\binom{n}{k} \\frac{1}{2^n}$. This is the number of ways to arrange $k$ heads among $n$ outcomes divided by the total number of outcomes. </br>\n",
    "k = 0, 1, 2 .... </br>\n",
    "So basically the PMF is a function takes a possible outcome and returns the probability of sampling that outcome\n",
    "\n",
    "The probability mass function can be plotted using the matplotlib library as follows."
   ]
  },
  {
   "cell_type": "code",
   "execution_count": 69,
   "metadata": {
    "slideshow": {
     "slide_type": "-"
    }
   },
   "outputs": [
    {
     "data": {
      "image/png": "[encoded data removed]",
      "text/plain": [
       "<Figure size 1000x600 with 1 Axes>"
      ]
     },
     "metadata": {},
     "output_type": "display_data"
    }
   ],
   "source": [
    "f = lambda k: binom.pmf(k, n=n,p=.25)\n",
    "\n",
    "x = np.arange(n+1);\n",
    "plt.plot(x, f(x),'*-')\n",
    "plt.title(\"The probability mass function for a Binomial random variable\")\n",
    "plt.xlim([0,n])\n",
    "plt.show()"
   ]
  },
  {
   "cell_type": "code",
   "execution_count": 24,
   "metadata": {},
   "outputs": [
    {
     "data": {
      "image/png": "[encoded data removed]",
      "text/plain": [
       "<Figure size 1000x600 with 1 Axes>"
      ]
     },
     "metadata": {},
     "output_type": "display_data"
    }
   ],
   "source": [
    "f = lambda k: binom.pmf(k, n=n,p=p)\n",
    "\n",
    "x = np.arange(n+1);\n",
    "plt.bar(x, f(x))\n",
    "plt.title(\"The probability mass function for a Binomial random variable\")\n",
    "plt.xlim([0,n])\n",
    "plt.show()"
   ]
  },
  {
   "cell_type": "markdown",
   "metadata": {
    "slideshow": {
     "slide_type": "-"
    }
   },
   "source": [
    "Observe that the probability mass function looks very much like the histogram plot! (not a coincidence) \n",
    "\n",
    "Question: is this a good way of visualizing a PMF?\n"
   ]
  },
  {
   "cell_type": "markdown",
   "metadata": {
    "slideshow": {
     "slide_type": "slide"
    }
   },
   "source": [
    "## Concept check\n",
    "\n",
    "**Question**: what is a discrete random variable? \n",
    "\n",
    "A *discrete random variable (r.v.)* is an abstraction of a coin or die. It can take on a *discrete* set of possible different values, each with a preassigned probability. We saw two examples of discrete random variables: Bernoulli and binomial.  A Bernoulli r.v. takes value $1$ with probability $p$ and $0$ with probability $1-p$. A binomial r.v. takes values $0,1,\\ldots,n$, with a given probability. The probabilities are given by the probability mass function. This function looks just like a histogram if you were to sample a large number of random variables. \n",
    "\n",
    "You can use the same descriptive statistics to describe a discrete random value (min, max, mean, variance, etc..).\n",
    "\n",
    "**Quiz**: what is the random variable that describes a fair die? the sum of two fair dice? "
   ]
  },
  {
   "cell_type": "markdown",
   "metadata": {
    "collapsed": true,
    "slideshow": {
     "slide_type": "slide"
    }
   },
   "source": [
    "## Normal (Gaussian) distribution \n",
    "\n",
    "Roughly speaking, normal (that's their name, we don't use normal as a synonym for typical) random variables are described by a \"bell curve\".  The curve is centered at the mean, $\\mu$, and has width controlled by the standard deviation, $\\sigma$. This is one of the most popular distributions in a huge variety of applications.  It has a simple formula which supports lots of algebraic/calculus manipulations, and is a good model for lots of real world phenomena.  It can be derived by looking at what happens when you add up many independent random variables (imagine a binomial distribution with very large n)."
   ]
  },
  {
   "cell_type": "code",
   "execution_count": 70,
   "metadata": {
    "slideshow": {
     "slide_type": "-"
    }
   },
   "outputs": [
    {
     "data": {
      "image/png": "[encoded data removed]",
      "text/plain": [
       "<Figure size 1000x600 with 1 Axes>"
      ]
     },
     "metadata": {},
     "output_type": "display_data"
    }
   ],
   "source": [
    "mu = 0 # mean\n",
    "sigma = 1 # standard deviation \n",
    "x = np.arange(mu-4*sigma,mu+4*sigma,0.001);\n",
    "pdf = norm.pdf(x,loc=mu, scale=sigma)\n",
    "# Here, I could have also written\n",
    "# pdf = 1/(sigma * np.sqrt(2 * np.pi)) * np.exp( - (x - mu)**2 / (2 * sigma**2)) \n",
    "plt.plot(x, pdf, linewidth=2, color='k')\n",
    "plt.show()"
   ]
  },
  {
   "cell_type": "markdown",
   "metadata": {
    "slideshow": {
     "slide_type": "slide"
    }
   },
   "source": [
    "## Continuous random variables and probability density functions \n",
    "\n",
    "A normal random variable is an example of a *continuous* random variable. A normal random variable can take any real value, but some numbers are more likely than others. More formally, we say that the *probability density function (PDF)* for the normal (Gaussian) distribution is\n",
    "$$\n",
    "f(x) = \\frac{1}{\\sqrt{ 2 \\pi \\sigma^2 }}\n",
    "e^{ - \\frac{ (x - \\mu)^2 } {2 \\sigma^2} },\n",
    "$$\n",
    "where $\\mu$ is the mean and $\\sigma$ is the variance. What this means is that the probability that a normal random variable will take values in the interval $[a,b]$ is given by \n",
    "$$\n",
    "\\int_a^b f(x) dx.\n",
    "$$\n",
    "This is just the area under the curve for this interval. For $a=\\mu-\\sigma$ and $b = \\mu+\\sigma$, we plot this below."
   ]
  },
  {
   "cell_type": "code",
   "execution_count": 26,
   "metadata": {
    "slideshow": {
     "slide_type": "-"
    }
   },
   "outputs": [
    {
     "data": {
      "image/png": "[encoded data removed]",
      "text/plain": [
       "<Figure size 1000x600 with 1 Axes>"
      ]
     },
     "metadata": {},
     "output_type": "display_data"
    }
   ],
   "source": [
    "plt.plot(x, pdf, linewidth=2, color='k')\n",
    "x2 = np.arange(mu-sigma,mu+sigma,0.001)\n",
    "plt.fill_between(x2, y1= norm.pdf(x2,loc=mu, scale=sigma), facecolor='red', alpha=0.5)\n",
    "plt.show()"
   ]
  },
  {
   "cell_type": "markdown",
   "metadata": {
    "slideshow": {
     "slide_type": "-"
    }
   },
   "source": [
    "One can check that \n",
    "$$\n",
    "\\int_{-\\infty}^\\infty f(x) dx = 1\n",
    "$$\n",
    "which just means that the probability that the random variable takes value between $-\\infty$ and $\\infty$ is one. \n",
    "\n",
    "This integral can be computed using the *cumulative distribution function* (CDF)\n",
    "$$\n",
    "F(x) = \\int_{-\\infty}^x f(x) dx.\n",
    "$$\n",
    "We have that \n",
    "$$\n",
    "\\int_a^b f(x) dx = F(b) - F(a)\n",
    "$$\n"
   ]
  },
  {
   "cell_type": "code",
   "execution_count": 27,
   "metadata": {
    "slideshow": {
     "slide_type": "-"
    }
   },
   "outputs": [
    {
     "data": {
      "text/plain": [
       "0.6826894921370859"
      ]
     },
     "execution_count": 27,
     "metadata": {},
     "output_type": "execute_result"
    }
   ],
   "source": [
    "norm.cdf(mu+sigma, loc=mu, scale=sigma) - norm.cdf(mu-sigma, loc=mu, scale=sigma) "
   ]
  },
  {
   "cell_type": "code",
   "execution_count": 71,
   "metadata": {},
   "outputs": [
    {
     "data": {
      "image/png": "[encoded data removed]",
      "text/plain": [
       "<Figure size 1000x600 with 1 Axes>"
      ]
     },
     "metadata": {},
     "output_type": "display_data"
    }
   ],
   "source": [
    "mu = 0 # mean\n",
    "sigma = 1 # standard deviation \n",
    "x = np.arange(mu-4*sigma,mu+4*sigma,0.001);\n",
    "cdf = norm.cdf(x,loc=mu, scale=sigma)\n",
    "pdf = norm.pdf(x, loc=mu, scale=sigma)\n",
    "# Here, I could have also written\n",
    "# pdf = 1/(sigma * np.sqrt(2 * np.pi)) * np.exp( - (x - mu)**2 / (2 * sigma**2)) \n",
    "plt.plot(x, cdf, linewidth=2, color='k')\n",
    "plt.plot(x, pdf, linewidth=2, color=\"g\")\n",
    "plt.show()"
   ]
  },
  {
   "cell_type": "markdown",
   "metadata": {
    "slideshow": {
     "slide_type": "-"
    }
   },
   "source": [
    "This means that 68% of the time, this normal random variable will have values between $\\mu-\\sigma$ and $\\mu+\\sigma$. \n",
    "\n",
    "You used to have to look these values up in a table! \n",
    "\n",
    "Let's see what it looks like if we sample 1,000,000 normal random variables and then plot a histogram. "
   ]
  },
  {
   "cell_type": "code",
   "execution_count": 72,
   "metadata": {
    "slideshow": {
     "slide_type": "-"
    }
   },
   "outputs": [
    {
     "name": "stdout",
     "output_type": "stream",
     "text": [
      "[-0.96113503  0.65639617  1.38565779 -0.2167966  -1.76166769 -2.28675877\n",
      " -1.35189563  0.79267601  0.1709383  -2.5967136  -0.31334583  0.4032572\n",
      "  2.35999741  2.49608787  0.28343323  1.42123622  0.37690916 -1.49848282\n",
      "  0.46464901 -1.73199516 -0.20315184  0.43326675 -0.58790997  2.05439401\n",
      " -0.80155609  0.04788356  0.85105781 -0.29538944 -0.81886975  0.11448342\n",
      "  0.67715531 -0.63475639  0.60001068 -0.28673638 -1.69490283  0.5554692\n",
      "  0.92893235  2.14958709  1.11806548  1.52217114 -0.61426206 -0.00739024\n",
      " -0.95993298  0.23842721 -0.50297993 -1.37642125 -0.91375082 -0.3177953\n",
      "  0.15747335  0.37534984  0.43904861  1.13979034 -0.71108761  0.05152913\n",
      "  0.84217012  0.2550509  -1.20228237 -0.10113771  1.32104574  0.7396173\n",
      "  1.08819966 -0.37696664 -0.41713131 -0.35150093  0.43589164 -0.89474647\n",
      " -1.03369568 -1.26395756 -0.49457222  0.11500581  0.15183221  1.36942564\n",
      "  0.20918355 -1.66383438 -1.71225985 -1.48631873 -1.78343379  1.49009666\n",
      " -0.30790338  1.92076388 -0.67475153  0.20625748  1.0128134  -1.3693661\n",
      "  0.05330897 -0.65293389  0.80905087  0.21579197  0.19221901  1.21930102\n",
      " -0.94719157 -0.64181231  0.62953468 -0.26670047 -0.30824869  0.12553497\n",
      "  0.87881081  0.57518918  0.51750819 -0.21531995]\n"
     ]
    },
    {
     "data": {
      "image/png": "[encoded data removed]",
      "text/plain": [
       "<Figure size 1000x600 with 1 Axes>"
      ]
     },
     "metadata": {},
     "output_type": "display_data"
    }
   ],
   "source": [
    "norm_vars = norm.rvs(loc=mu,scale=sigma,size=10000) \n",
    "#`norm`：来自 `scipy.stats`，代表标准正态分布。\n",
    "# `.rvs(...)`：表示“random variates”，即生成随机样本。\n",
    "#`loc=mu`：设置正态分布的均值为 `mu`。 mean\n",
    "# `scale=sigma`：设置标准差为 `sigma`。\n",
    "# `size=10000`：生成 10,000 个随机样本。\n",
    "  \n",
    "# **例子：** `mu = 0` 和 `sigma = 1` 就是标准正态分布。\n",
    "\n",
    "print(norm_vars[:100])\n",
    "\n",
    "plt.hist(norm_vars, bins=100,density=True)\n",
    "plt.plot(x, pdf, linewidth=2, color='k')\n",
    "plt.title(\"A histogram of normal random variables\")\n",
    "plt.show()"
   ]
  },
  {
   "cell_type": "markdown",
   "metadata": {
    "slideshow": {
     "slide_type": "-"
    }
   },
   "source": [
    "The histogram of the sampled variables looks just like the probability distribution function!"
   ]
  },
  {
   "cell_type": "markdown",
   "metadata": {},
   "source": [
    "## The Poisson Distribution\n",
    "The Poisson distribution takes the average rate of an event ocurring as a parameter ($\\lambda$), and measures the probability of seeing $k$ of those events in an interval of time.  For example, if there are an average of 1.5 home runs per game in baseball, the poisson distribution tells you the probability of seeing 0, 1, 2, 3, ... homeruns in a given game.  \n",
    "\n",
    "Note, this is a **discrete** rv, but it comes from a set of continuous parameters.  You can sort of think of it as a way to turn a continuous rate (1.5 homeruns per game) into the probability of a discrete set of outcomes.\n",
    "\n",
    "For the baseball example, $\\lambda = 1.5$ homers per game.  The probability of seeing $k$ homeruns is\n",
    "\n",
    "$P(k)$ = Poission($k, \\lambda$) = $e^{-\\lambda}\\frac{\\lambda^k}{k!}$\n"
   ]
  },
  {
   "cell_type": "code",
   "execution_count": 73,
   "metadata": {
    "scrolled": true
   },
   "outputs": [
    {
     "data": {
      "text/plain": [
       "[<matplotlib.lines.Line2D at 0x1573375c0>]"
      ]
     },
     "execution_count": 73,
     "metadata": {},
     "output_type": "execute_result"
    },
    {
     "data": {
      "image/png": "[encoded data removed]",
      "text/plain": [
       "<Figure size 1000x600 with 1 Axes>"
      ]
     },
     "metadata": {},
     "output_type": "display_data"
    }
   ],
   "source": [
    "from scipy.stats import poisson\n",
    "plt.plot(poisson.pmf(np.arange(10), mu=1.5), 'x') # 1.5 HR's per game\n",
    "plt.plot(poisson.pmf(np.arange(10), mu=3), 'o') # 3 HR's per game\n"
   ]
  },
  {
   "cell_type": "markdown",
   "metadata": {},
   "source": [
    "\n",
    "|        | Discrete           | Continuous  |\n",
    "| ------------- |-------------| -----|\n",
    "| comparing likelihood of outcome     | probability mass function.  p(outcome == possibility) | probability density function $$\\int_a^b pdf(x) = $$ probability of outcome between a and b|\n",
    "| cumulative likelihood: $$p(outcome <= somePossibility)$$| cumulative mass function:  $$\\sum_{outcomes <= sumePossibility} \\text{pmf}(outcome)$$ | cumulative density function: $$\\int_{-\\inf}^{outcome} \\text{pdf}(x)$$ |\n",
    "\n",
    "\n",
    "For both, probability of an outcome between 2 values is cmf/cdf(upper) - cmf/cdf(lower)\n"
   ]
  },
  {
   "cell_type": "markdown",
   "metadata": {
    "collapsed": true,
    "nbpresent": {
     "id": "558af430-f4c0-4be9-b1ef-afce5fccd0fa"
    },
    "slideshow": {
     "slide_type": "slide"
    }
   },
   "source": [
    "# Concept recap\n",
    "- variable types \n",
    "- descriptive statistics in python (min, max, mean, median, std, var, histograms, quantiles) \n",
    "- correlation vs causation\n",
    "- confounding variables \n",
    "- descriptive vs. inferential statistics\n",
    "- discrete and continuous random variables (e.g.: Bernouilli, Binomial, Normal)\n",
    "\n",
    "\n",
    "## Looking ahead:  Hypothesis testing"
   ]
  }
 ],
 "metadata": {
  "anaconda-cloud": {},
  "celltoolbar": "Slideshow",
  "kernelspec": {
   "display_name": "venv",
   "language": "python",
   "name": "python3"
  },
  "language_info": {
   "codemirror_mode": {
    "name": "ipython",
    "version": 3
   },
   "file_extension": ".py",
   "mimetype": "text/x-python",
   "name": "python",
   "nbconvert_exporter": "python",
   "pygments_lexer": "ipython3",
   "version": "3.13.3"
  },
  "nbpresent": {
   "slides": {
    "006f01ca-e160-4faa-ad02-2f873362ca99": {
     "id": "006f01ca-e160-4faa-ad02-2f873362ca99",
     "prev": "e60ea09b-1474-49b0-9ea6-2e803b335693",
     "regions": {
      "88222835-28de-4a0f-895e-303024baf060": {
       "attrs": {
        "height": 0.8,
        "width": 0.8,
        "x": 0.1,
        "y": 0.1
       },
       "content": {
        "cell": "e6a51e7a-d63e-4187-8899-bfbf03f8a4b6",
        "part": "whole"
       },
       "id": "88222835-28de-4a0f-895e-303024baf060"
      }
     }
    },
    "2ba6955d-8be2-4ce3-ae98-f3b3695e4832": {
     "id": "2ba6955d-8be2-4ce3-ae98-f3b3695e4832",
     "prev": "35a7a5a6-f0c3-4b68-9579-e5840160a87d",
     "regions": {
      "63b4b5f3-c348-418c-aabf-932d5fdbcc1c": {
       "attrs": {
        "height": 0.8,
        "width": 0.8,
        "x": 0.1,
        "y": 0.1
       },
       "content": {
        "cell": "883076a7-1c6e-492f-b9d2-0b8550b5c31f",
        "part": "whole"
       },
       "id": "63b4b5f3-c348-418c-aabf-932d5fdbcc1c"
      }
     }
    },
    "2d5e1e8f-2e26-415e-8d8d-9229f2dc1244": {
     "id": "2d5e1e8f-2e26-415e-8d8d-9229f2dc1244",
     "prev": "9ba8c8c8-59a7-4776-84cb-084e5b0a2317",
     "regions": {
      "44582fec-116b-475d-9793-ad29580b7fc2": {
       "attrs": {
        "height": 0.8,
        "width": 0.8,
        "x": 0.1,
        "y": 0.1
       },
       "content": {
        "cell": "4992f285-654f-485e-81ef-8a6ae18cad34",
        "part": "whole"
       },
       "id": "44582fec-116b-475d-9793-ad29580b7fc2"
      }
     }
    },
    "35a7a5a6-f0c3-4b68-9579-e5840160a87d": {
     "id": "35a7a5a6-f0c3-4b68-9579-e5840160a87d",
     "prev": "c7291188-b014-4fcb-83bc-f1ea035ee4c9",
     "regions": {
      "cbc80f26-e933-4d90-9dfd-e55a3dc339ba": {
       "attrs": {
        "height": 0.8,
        "width": 0.8,
        "x": 0.1,
        "y": 0.1
       },
       "content": {
        "cell": "558af430-f4c0-4be9-b1ef-afce5fccd0fa",
        "part": "whole"
       },
       "id": "cbc80f26-e933-4d90-9dfd-e55a3dc339ba"
      }
     }
    },
    "3ecd0fe6-e75f-4362-a6e7-e5273e12058e": {
     "id": "3ecd0fe6-e75f-4362-a6e7-e5273e12058e",
     "prev": "2d5e1e8f-2e26-415e-8d8d-9229f2dc1244",
     "regions": {
      "eac20970-b45c-4073-a596-cdb2a974fe23": {
       "attrs": {
        "height": 0.8,
        "width": 0.8,
        "x": 0.1,
        "y": 0.1
       },
       "content": {
        "cell": "de60c848-d1fb-478d-a736-0ebe21762a24",
        "part": "whole"
       },
       "id": "eac20970-b45c-4073-a596-cdb2a974fe23"
      }
     }
    },
    "4e939c85-e2b3-48b3-b2df-389bc0ca7dd0": {
     "id": "4e939c85-e2b3-48b3-b2df-389bc0ca7dd0",
     "prev": "9807c9b8-54cd-4a78-b50d-1a6e9f7ff066",
     "regions": {
      "ddc97209-2f2f-409d-953c-a9a83dec6738": {
       "attrs": {
        "height": 0.8,
        "width": 0.8,
        "x": 0.1,
        "y": 0.1
       },
       "content": {
        "cell": "674ee724-0165-40c5-9296-83db8305fa4c",
        "part": "whole"
       },
       "id": "ddc97209-2f2f-409d-953c-a9a83dec6738"
      }
     }
    },
    "95bf00f9-fc2a-4478-bd48-fb66078e061f": {
     "id": "95bf00f9-fc2a-4478-bd48-fb66078e061f",
     "prev": "b9fa7815-a205-4ea6-9076-1289b96670cf",
     "regions": {
      "dd7aef1b-3f05-47a5-bc5f-274809d2c21d": {
       "attrs": {
        "height": 0.8,
        "width": 0.8,
        "x": 0.1,
        "y": 0.1
       },
       "content": {
        "cell": "61e1167e-99ef-4b5d-b717-07a46077a091",
        "part": "whole"
       },
       "id": "dd7aef1b-3f05-47a5-bc5f-274809d2c21d"
      }
     }
    },
    "966d5c12-49ef-4129-aecb-b183804ecd19": {
     "id": "966d5c12-49ef-4129-aecb-b183804ecd19",
     "prev": "3ecd0fe6-e75f-4362-a6e7-e5273e12058e",
     "regions": {
      "ff0704a2-f662-4a03-9874-5613f4634956": {
       "attrs": {
        "height": 0.8,
        "width": 0.8,
        "x": 0.1,
        "y": 0.1
       },
       "content": {
        "cell": "a6fd92a3-b57e-45c5-b216-f9f475baf8ce",
        "part": "whole"
       },
       "id": "ff0704a2-f662-4a03-9874-5613f4634956"
      }
     }
    },
    "9807c9b8-54cd-4a78-b50d-1a6e9f7ff066": {
     "id": "9807c9b8-54cd-4a78-b50d-1a6e9f7ff066",
     "prev": "966d5c12-49ef-4129-aecb-b183804ecd19",
     "regions": {
      "9e037b47-3fb5-4a60-b69c-ad3b282807a1": {
       "attrs": {
        "height": 0.8,
        "width": 0.8,
        "x": 0.1,
        "y": 0.1
       },
       "content": {
        "cell": "b79fa570-8c08-4820-a035-2a00bfae1a9b",
        "part": "whole"
       },
       "id": "9e037b47-3fb5-4a60-b69c-ad3b282807a1"
      }
     }
    },
    "9ba8c8c8-59a7-4776-84cb-084e5b0a2317": {
     "id": "9ba8c8c8-59a7-4776-84cb-084e5b0a2317",
     "prev": "9e2b6ffd-bec2-4027-93e8-64b63e770378",
     "regions": {
      "45bb0df9-937a-48a6-882b-346a1253250c": {
       "attrs": {
        "height": 0.8,
        "width": 0.8,
        "x": 0.1,
        "y": 0.1
       },
       "content": {
        "cell": "be5bedf1-b9ed-4caa-bc3e-6c390df97946",
        "part": "whole"
       },
       "id": "45bb0df9-937a-48a6-882b-346a1253250c"
      }
     }
    },
    "9e2b6ffd-bec2-4027-93e8-64b63e770378": {
     "id": "9e2b6ffd-bec2-4027-93e8-64b63e770378",
     "prev": "e9d31a55-0862-44ec-bd48-d74167655985",
     "regions": {
      "7a7c6996-8117-42ce-8093-318b84bd052b": {
       "attrs": {
        "height": 0.8,
        "width": 0.8,
        "x": 0.1,
        "y": 0.1
       },
       "content": {
        "cell": "95b34ac1-b36d-492d-84f9-adafb2d57ace",
        "part": "whole"
       },
       "id": "7a7c6996-8117-42ce-8093-318b84bd052b"
      }
     }
    },
    "ae354c9e-1384-4f31-8e03-5c96f3988bf4": {
     "id": "ae354c9e-1384-4f31-8e03-5c96f3988bf4",
     "prev": null,
     "regions": {
      "9e57ef10-c941-41de-93da-812357c7ec21": {
       "attrs": {
        "height": 0.8,
        "width": 0.8,
        "x": 0.1,
        "y": 0.1
       },
       "content": {
        "cell": "dac6427e-b8df-46f9-bfd3-b24427a73993",
        "part": "whole"
       },
       "id": "9e57ef10-c941-41de-93da-812357c7ec21"
      }
     }
    },
    "b9fa7815-a205-4ea6-9076-1289b96670cf": {
     "id": "b9fa7815-a205-4ea6-9076-1289b96670cf",
     "prev": "ae354c9e-1384-4f31-8e03-5c96f3988bf4",
     "regions": {
      "cc19ec36-3caa-4666-86e7-2bd1d9cb03b8": {
       "attrs": {
        "height": 0.8,
        "width": 0.8,
        "x": 0.1,
        "y": 0.1
       },
       "content": {
        "cell": "c7392535-4666-41a5-a68a-7306dccd6cd8",
        "part": "whole"
       },
       "id": "cc19ec36-3caa-4666-86e7-2bd1d9cb03b8"
      }
     }
    },
    "c7291188-b014-4fcb-83bc-f1ea035ee4c9": {
     "id": "c7291188-b014-4fcb-83bc-f1ea035ee4c9",
     "prev": "006f01ca-e160-4faa-ad02-2f873362ca99",
     "regions": {
      "3fa8900b-1ee2-4625-8e0b-a8a52d95390d": {
       "attrs": {
        "height": 0.8,
        "width": 0.8,
        "x": 0.1,
        "y": 0.1
       },
       "content": {
        "cell": "a912604c-786a-448e-a908-397f28b46a13",
        "part": "whole"
       },
       "id": "3fa8900b-1ee2-4625-8e0b-a8a52d95390d"
      }
     }
    },
    "e60ea09b-1474-49b0-9ea6-2e803b335693": {
     "id": "e60ea09b-1474-49b0-9ea6-2e803b335693",
     "prev": "4e939c85-e2b3-48b3-b2df-389bc0ca7dd0",
     "regions": {
      "3df2ec23-ba8a-4b76-b6af-2a4aa219da46": {
       "attrs": {
        "height": 0.8,
        "width": 0.8,
        "x": 0.1,
        "y": 0.1
       },
       "content": {
        "cell": "06d04c6d-90a4-441d-9d6e-4f719490e12e",
        "part": "whole"
       },
       "id": "3df2ec23-ba8a-4b76-b6af-2a4aa219da46"
      }
     }
    },
    "e9d31a55-0862-44ec-bd48-d74167655985": {
     "id": "e9d31a55-0862-44ec-bd48-d74167655985",
     "prev": "95bf00f9-fc2a-4478-bd48-fb66078e061f",
     "regions": {
      "cc6bd695-e238-4250-8822-ffea3f82f544": {
       "attrs": {
        "height": 0.8,
        "width": 0.8,
        "x": 0.1,
        "y": 0.1
       },
       "content": {
        "cell": "86c3f014-9535-48f0-95a2-df74d16eaa69",
        "part": "whole"
       },
       "id": "cc6bd695-e238-4250-8822-ffea3f82f544"
      }
     }
    }
   },
   "themes": {}
  }
 },
 "nbformat": 4,
 "nbformat_minor": 1
}
